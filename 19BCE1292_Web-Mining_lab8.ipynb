{
 "cells": [
  {
   "cell_type": "markdown",
   "id": "652ebc1e",
   "metadata": {},
   "source": [
    "### Name- Devshekhar Pattnaik\n",
    "\n",
    "### Reg No-19BCE1292\n",
    "\n",
    "### Slot-L19-20\n",
    "\n",
    "\n",
    "# <center> Web Mining Lab-8 </center>\n",
    "\n",
    "<br>"
   ]
  },
  {
   "cell_type": "markdown",
   "id": "8bcc582e",
   "metadata": {},
   "source": [
    "<b>Q. Input a directed graph (web pages as nodes and links between pages as edges), damping factor and number of iterations as part of implementing the following algorithms:</b>\n",
    "1.\tPage rank\n",
    "2.\tWeighted page rank\n",
    "\n",
    "to output the ranking of web pages."
   ]
  },
  {
   "cell_type": "markdown",
   "id": "48b0f5a2",
   "metadata": {},
   "source": [
    "###  1. <u>PageRank</u>"
   ]
  },
  {
   "cell_type": "markdown",
   "id": "8eff1e1e",
   "metadata": {},
   "source": [
    "<u>Algorithm</u>\n",
    "\n",
    "1. Links from a page to itself, or multiple outbound links from one single page to another single page, are ignored\n",
    "2. PageRank is initialized to the same value for all pages\n",
    "3. The PageRank transferred from a given page to the targets of its outbound links upon the next iteration is divided equally among all outbound links.\n",
    "4. The PageRank conferred by an outbound link is equal to the document’s own PageRank score divided by the number of outbound links\n",
    "5. The PageRank value for any page u can be expressed as: PR(u) = Σ(PR(v)/L(v))"
   ]
  },
  {
   "cell_type": "markdown",
   "id": "b62fa4fa",
   "metadata": {},
   "source": [
    "<u>Data structures Used</u>\n",
    "\n",
    "1. List\n",
    "2. Array"
   ]
  },
  {
   "cell_type": "code",
   "execution_count": 1,
   "id": "95332694",
   "metadata": {},
   "outputs": [],
   "source": [
    "import numpy as np"
   ]
  },
  {
   "cell_type": "code",
   "execution_count": 2,
   "id": "40b70061",
   "metadata": {},
   "outputs": [],
   "source": [
    "outlinks = [0, 1, 0, 1, 0, 0, 0, 1, 0, 1, 1, 0, 0, 1, 0, 1, 0, 0, 0, 0, 0, 1, 1, 0, 0]\n",
    "outlinks = np.reshape(outlinks, (5, 5))"
   ]
  },
  {
   "cell_type": "code",
   "execution_count": 3,
   "id": "b65fe934",
   "metadata": {},
   "outputs": [],
   "source": [
    "# Damping factor\n",
    "d = 0.85\n",
    "\n",
    "# size of the matrix\n",
    "size = outlinks.shape[0]\n",
    "    \n",
    "# list to hold page ranks\n",
    "page_ranks = [1 for i in range(size)]"
   ]
  },
  {
   "cell_type": "code",
   "execution_count": 4,
   "id": "26528876",
   "metadata": {},
   "outputs": [
    {
     "name": "stdout",
     "output_type": "stream",
     "text": [
      "[2, 2, 2, 1, 2]\n"
     ]
    }
   ],
   "source": [
    "# Calculating the out degree of each node and storing in a list\n",
    "out_degrees = []\n",
    "for i in range(size):\n",
    "    sums = 0\n",
    "    for j in range(size):\n",
    "        sums += outlinks[i][j]\n",
    "    out_degrees.append(sums)\n",
    "\n",
    "print(out_degrees)"
   ]
  },
  {
   "cell_type": "code",
   "execution_count": 5,
   "id": "cd14b2cd",
   "metadata": {},
   "outputs": [
    {
     "name": "stdout",
     "output_type": "stream",
     "text": [
      "Initial page ranks:\n",
      "[1, 1, 1, 1, 1]\n"
     ]
    }
   ],
   "source": [
    "print('Initial page ranks:')\n",
    "print(page_ranks)"
   ]
  },
  {
   "cell_type": "code",
   "execution_count": 6,
   "id": "7929f653",
   "metadata": {},
   "outputs": [
    {
     "name": "stdout",
     "output_type": "stream",
     "text": [
      "{0: [1, 3], 1: [2, 4], 2: [0, 3], 3: [0], 4: [1, 2]}\n"
     ]
    }
   ],
   "source": [
    "# Storing the out nodes of each node\n",
    "nodes = {}\n",
    "for i in range(5):\n",
    "    temp = []\n",
    "    for j in range(5):\n",
    "        if outlinks[i][j] == 1:\n",
    "            temp.append(j)\n",
    "    nodes[i] = temp\n",
    "\n",
    "print(nodes)"
   ]
  },
  {
   "cell_type": "code",
   "execution_count": 7,
   "id": "0ee61b44",
   "metadata": {},
   "outputs": [
    {
     "name": "stdout",
     "output_type": "stream",
     "text": [
      "The converged page rank is:\n",
      "[1.4544, 1.0153, 0.8286, 1.1203, 0.5815]\n"
     ]
    }
   ],
   "source": [
    "for _ in range(100):\n",
    "    for j in range(size):\n",
    "        temp = 0\n",
    "        for i in range(size):\n",
    "            if outlinks[i][j] == 1:\n",
    "                temp += page_ranks[i] / out_degrees[i]\n",
    "        temp *= d\n",
    "        temp += (1-d)\n",
    "        page_ranks[j] = round(temp, 4)\n",
    "\n",
    "print('The converged page rank is:')\n",
    "print(page_ranks)"
   ]
  },
  {
   "cell_type": "code",
   "execution_count": 8,
   "id": "f5c1e789",
   "metadata": {},
   "outputs": [
    {
     "name": "stdout",
     "output_type": "stream",
     "text": [
      "The sum of page ranks is:  5.0001\n"
     ]
    }
   ],
   "source": [
    "sums = 0\n",
    "for i in page_ranks:\n",
    "    sums += i\n",
    "print('The sum of page ranks is: ', round(sums, 4))"
   ]
  },
  {
   "cell_type": "markdown",
   "id": "0510ffec",
   "metadata": {},
   "source": [
    "###  2. <u>Weighted PageRank</u>"
   ]
  },
  {
   "cell_type": "markdown",
   "id": "788ea12a",
   "metadata": {},
   "source": [
    "<u>Algorithm</u>\n",
    "\n",
    "1. Win(v,u) is the weight of link (v, u) calculated based on the number of inlinks of page u and the number of inlinks of all reference pages of page v.\n",
    "2. Win(v,u) = Iu/Σ Ip. Here, Ip and Iu represent the number of inlinks of page ‘p’ and ‘u’ respectively\n",
    "3. Wout(v,u) is the weight of link (v, u) calculated based on the number of outlinks of page u and the number of outlinks of all reference pages of page v.\n",
    "4. Wout(v,u) = Ou/Σ Op. Here, Op and Ou represent the number of outlinks of page ‘p’ and ‘u’ respectively\n",
    "5. d refers to the damping factor\n",
    "6. Based on the importance of all pages as describes by their number of inlinks and outlinks, the Weighted PageRank formula is given as: <br>PR(u) = (1-d) + d * Σ (PR(v) * Win(v,u) * Wout(v,u))\n"
   ]
  },
  {
   "cell_type": "markdown",
   "id": "df228bb5",
   "metadata": {},
   "source": [
    "<u>Data structures Used</u>\n",
    "\n",
    "1. List\n",
    "2. Array"
   ]
  },
  {
   "cell_type": "code",
   "execution_count": 9,
   "id": "612977d8",
   "metadata": {},
   "outputs": [],
   "source": [
    "outlinks = [0, 1, 0, 1, 0, 0, 0, 1, 0, 1, 1, 0, 0, 1, 0, 1, 0, 0, 0, 0, 0, 1, 1, 0, 0]\n",
    "outlinks = np.reshape(outlinks, (5, 5))"
   ]
  },
  {
   "cell_type": "code",
   "execution_count": 10,
   "id": "494ff4cf",
   "metadata": {},
   "outputs": [],
   "source": [
    "# Damping factor\n",
    "d = 0.85\n",
    "\n",
    "# size of the matrix\n",
    "size = outlinks.shape[0]\n",
    "    \n",
    "# list to hold page ranks\n",
    "page_ranks = [1 for i in range(size)]"
   ]
  },
  {
   "cell_type": "code",
   "execution_count": 11,
   "id": "4509a3c8",
   "metadata": {},
   "outputs": [
    {
     "name": "stdout",
     "output_type": "stream",
     "text": [
      "[2, 2, 2, 1, 2]\n"
     ]
    }
   ],
   "source": [
    "# Calculating the out degree of each node and storing in a list\n",
    "out_degrees = []\n",
    "for i in range(size):\n",
    "    sums = 0\n",
    "    for j in range(size):\n",
    "        sums += outlinks[i][j]\n",
    "    out_degrees.append(sums)\n",
    "\n",
    "print(out_degrees)"
   ]
  },
  {
   "cell_type": "code",
   "execution_count": 12,
   "id": "91fd63b9",
   "metadata": {},
   "outputs": [
    {
     "name": "stdout",
     "output_type": "stream",
     "text": [
      "[2, 2, 2, 2, 1]\n"
     ]
    }
   ],
   "source": [
    "# Calculating the in degree of each node and storing in a list\n",
    "in_degrees = []\n",
    "for j in range(5):\n",
    "    sums = 0\n",
    "    for i in range(5):\n",
    "        sums += outlinks[i][j]\n",
    "    in_degrees.append(sums)\n",
    "\n",
    "print(in_degrees)"
   ]
  },
  {
   "cell_type": "code",
   "execution_count": 13,
   "id": "c565e201",
   "metadata": {},
   "outputs": [
    {
     "name": "stdout",
     "output_type": "stream",
     "text": [
      "Initial page ranks:\n",
      "[1, 1, 1, 1, 1]\n"
     ]
    }
   ],
   "source": [
    "print('Initial page ranks:')\n",
    "print(page_ranks)"
   ]
  },
  {
   "cell_type": "code",
   "execution_count": 14,
   "id": "5b21e96a",
   "metadata": {},
   "outputs": [
    {
     "name": "stdout",
     "output_type": "stream",
     "text": [
      "{0: [1, 3], 1: [2, 4], 2: [0, 3], 3: [0], 4: [1, 2]}\n"
     ]
    }
   ],
   "source": [
    "# Storing the out nodes of each node\n",
    "nodes = {}\n",
    "for i in range(5):\n",
    "    temp = []\n",
    "    for j in range(5):\n",
    "        if outlinks[i][j] == 1:\n",
    "            temp.append(j)\n",
    "    nodes[i] = temp\n",
    "\n",
    "print(nodes)"
   ]
  },
  {
   "cell_type": "code",
   "execution_count": 15,
   "id": "b8e8f016",
   "metadata": {},
   "outputs": [
    {
     "name": "stdout",
     "output_type": "stream",
     "text": [
      "The converged weighted page rank is:\n",
      "[0.4447, 0.3174, 0.2814, 0.2529, 0.195]\n"
     ]
    }
   ],
   "source": [
    "for _ in range(100):\n",
    "    for j in range(size):\n",
    "        temp = 0\n",
    "        for i in range(size):\n",
    "            out_degree = 0\n",
    "            in_degree = 0\n",
    "            if outlinks[i][j] == 1:\n",
    "                for l in nodes[i]:\n",
    "                    out_degree += out_degrees[l]\n",
    "                    in_degree += in_degrees[l]\n",
    "                temp += page_ranks[i] * (in_degrees[j] / in_degree) * (out_degrees[j] / out_degree)\n",
    "        temp *= d\n",
    "        temp += (1 - d)\n",
    "        page_ranks[j] = round(temp, 4)\n",
    "        \n",
    "print('The converged weighted page rank is:')\n",
    "print(page_ranks)"
   ]
  },
  {
   "cell_type": "code",
   "execution_count": 16,
   "id": "e6ad9e19",
   "metadata": {},
   "outputs": [
    {
     "name": "stdout",
     "output_type": "stream",
     "text": [
      "\n",
      "The sum of weighted page ranks is:  1.4914\n"
     ]
    }
   ],
   "source": [
    "sums = 0\n",
    "for i in page_ranks:\n",
    "    sums += i\n",
    "print('\\nThe sum of weighted page ranks is: ', round(sums, 4))"
   ]
  }
 ],
 "metadata": {
  "kernelspec": {
   "display_name": "Python 3",
   "language": "python",
   "name": "python3"
  },
  "language_info": {
   "codemirror_mode": {
    "name": "ipython",
    "version": 3
   },
   "file_extension": ".py",
   "mimetype": "text/x-python",
   "name": "python",
   "nbconvert_exporter": "python",
   "pygments_lexer": "ipython3",
   "version": "3.8.8"
  }
 },
 "nbformat": 4,
 "nbformat_minor": 5
}
