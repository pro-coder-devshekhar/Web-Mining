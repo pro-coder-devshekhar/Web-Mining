{
 "cells": [
  {
   "cell_type": "markdown",
   "id": "d2c2fb83",
   "metadata": {},
   "source": [
    "### Name- Devshekhar Pattnaik\n",
    "\n",
    "### Reg No-19BCE1292\n",
    "\n",
    "### Slot-L19-20\n",
    "\n",
    "\n",
    "# <center> Web Mining Lab-9 </center>\n",
    "\n",
    "<br>"
   ]
  },
  {
   "cell_type": "markdown",
   "id": "7b559b37",
   "metadata": {},
   "source": [
    "<b>Q1. Write a python program that takes the outlink data of a subsection of the web and that computes the Normalized Hub and authority score.  The program should take the following parameters :</b>\n",
    "\n",
    "<b>a. Number of sites in the sub-section of the web.<br>\n",
    "b. Outlink data of the sites</b>\n"
   ]
  },
  {
   "cell_type": "markdown",
   "id": "e5d1c539",
   "metadata": {},
   "source": [
    "<u>Algorithm</u>\n",
    "\n",
    "1. Initialize the hub and authority of each node with a value of 1\n",
    "2. For each iteration, update the hub and authority of every node in the graph\n",
    "3. The new authority is the sum of the hub of its parents\n",
    "4. The new hub is the sum of the authority of its children\n",
    "5. Normalize the new authority and hub"
   ]
  },
  {
   "cell_type": "markdown",
   "id": "152868e6",
   "metadata": {},
   "source": [
    "<u>Data structures Used</u>\n",
    "\n",
    "1. List\n",
    "2. Array"
   ]
  },
  {
   "cell_type": "code",
   "execution_count": 44,
   "id": "0b462a8d",
   "metadata": {},
   "outputs": [],
   "source": [
    "import numpy as np\n",
    "import pandas as pd"
   ]
  },
  {
   "cell_type": "code",
   "execution_count": 45,
   "id": "078b1ecb",
   "metadata": {},
   "outputs": [],
   "source": [
    "outlinks = [[0, 0, 1, 0, 0, 0, 0],\n",
    "            [0, 0, 1, 0, 0, 0, 0],\n",
    "            [1, 0, 0, 1, 0, 0, 0],\n",
    "            [0, 0, 0, 0, 1, 0, 0],\n",
    "            [0, 0, 0, 0, 0, 0, 1],\n",
    "            [0, 0, 0, 0, 0, 0, 1],\n",
    "            [0, 0, 0, 1, 1, 0, 0]]\n",
    "n = len(outlinks)\n",
    "outlinks = np.reshape(outlinks, (n, n))"
   ]
  },
  {
   "cell_type": "code",
   "execution_count": 46,
   "id": "2c9037e3",
   "metadata": {},
   "outputs": [],
   "source": [
    "size = outlinks.shape[0]\n",
    "hub_scores = [round((1.0/size),2) for i in range(size)]\n",
    "init_authority_scores = [round((1.0/size),2) for i in range(size)]\n",
    "authority_scores = init_authority_scores.copy()"
   ]
  },
  {
   "cell_type": "code",
   "execution_count": 47,
   "id": "153ec7f4",
   "metadata": {},
   "outputs": [],
   "source": [
    "for _ in range(25):\n",
    "    # Calculating the authority scores of the nodes\n",
    "    for j in range(size):\n",
    "        temp_auth = 0.0\n",
    "        for i in range(size):\n",
    "            if outlinks[i][j] == 1:\n",
    "                temp_auth += hub_scores[i]\n",
    "        authority_scores[j] = temp_auth\n",
    "            \n",
    "    # Normalizing the authority scores\n",
    "    auth_sum = sum(authority_scores)\n",
    "    # print(auth_sum)\n",
    "    for i in range(len(authority_scores)):\n",
    "        authority_scores[i] /= auth_sum\n",
    "    \n",
    "    # Calculating the hub scores of the nodes\n",
    "    for i in range(size):\n",
    "        temp_hub = 0.0\n",
    "        for j in range(size):\n",
    "            if outlinks[i][j] == 1:\n",
    "                temp_hub += init_authority_scores[j]\n",
    "        hub_scores[i] = temp_hub\n",
    "            \n",
    "    # Normalizing the hub scores\n",
    "    hub_sum = sum(hub_scores)\n",
    "    # print(hub_sum)\n",
    "    for i in range(len(hub_scores)):\n",
    "        hub_scores[i] /= hub_sum\n",
    "    \n",
    "    init_authority_scores = authority_scores.copy()"
   ]
  },
  {
   "cell_type": "code",
   "execution_count": 48,
   "id": "88c04fbc",
   "metadata": {},
   "outputs": [
    {
     "name": "stdout",
     "output_type": "stream",
     "text": [
      "\n",
      "Authority Scores after 25 iterations:\n",
      "0.1976\n",
      "0.0\n",
      "0.0012\n",
      "0.444\n",
      "0.356\n",
      "0.0\n",
      "0.0012\n"
     ]
    }
   ],
   "source": [
    "print(\"\\nAuthority Scores after 25 iterations:\")\n",
    "for i in (authority_scores):\n",
    "    print(round(i, 4))"
   ]
  },
  {
   "cell_type": "code",
   "execution_count": 49,
   "id": "2973b017",
   "metadata": {},
   "outputs": [
    {
     "name": "stdout",
     "output_type": "stream",
     "text": [
      "\n",
      "Hub Scores after 25 iterations:\n",
      "0.0006\n",
      "0.0006\n",
      "0.356\n",
      "0.1976\n",
      "0.0006\n",
      "0.0006\n",
      "0.444\n"
     ]
    }
   ],
   "source": [
    "print(\"\\nHub Scores after 25 iterations:\")\n",
    "for i in (hub_scores):\n",
    "    print(round(i, 4))"
   ]
  },
  {
   "cell_type": "markdown",
   "id": "01fb2015",
   "metadata": {},
   "source": [
    "<b>Q2. Test your program using the following linkage data.  Assume each site consists of only one text page.</b>\n",
    "\n",
    "<b>a. Site A(outlinks to B,C,D)<br>\n",
    "b. Site B(outlinks to A,C,D)<br>\n",
    "c. Site C(outlinks to A,D)<br>\n",
    "d. Site D(outlinks to C,D,E)<br>\n",
    "e. Site E(outlinks to B,C,D)<br>\n",
    "f. Site F(outlinks to A)<br></b>\n",
    "\n",
    "<b>Note: while computing Hub score and authority score, ignore “self – loops”.\n",
    "Printout a table containing the following fields:\n",
    "Site name, Normalized Hub score and Normalized authority score</b>\n"
   ]
  },
  {
   "cell_type": "markdown",
   "id": "84369638",
   "metadata": {},
   "source": [
    "<u>Algorithm</u>\n",
    "\n",
    "1. Initialize the hub and authority of each node with a value of 1\n",
    "2. For each iteration, update the hub and authority of every node in the graph\n",
    "3. The new authority is the sum of the hub of its parents\n",
    "4. The new hub is the sum of the authority of its children\n",
    "5. Normalize the new authority and hub"
   ]
  },
  {
   "cell_type": "markdown",
   "id": "3fe47dee",
   "metadata": {},
   "source": [
    "<u>Data structures Used</u>\n",
    "\n",
    "1. List\n",
    "2. Array"
   ]
  },
  {
   "cell_type": "code",
   "execution_count": 50,
   "id": "b6833555",
   "metadata": {},
   "outputs": [],
   "source": [
    "outlinks = [[0, 1, 1, 1, 0, 0],\n",
    "            [1, 0, 1, 1, 0, 0],\n",
    "            [1, 0, 0, 1, 0, 0],\n",
    "            [0, 0, 1, 1, 1, 0],\n",
    "            [0, 1, 1, 1, 0, 0],\n",
    "            [1, 0, 0, 0, 0, 0]]\n",
    "n = len(outlinks)\n",
    "outlinks = np.reshape(outlinks, (n, n))\n",
    "sites=['A','B','C','D','E','F']"
   ]
  },
  {
   "cell_type": "code",
   "execution_count": 51,
   "id": "a1b6d8ed",
   "metadata": {},
   "outputs": [],
   "source": [
    "size = outlinks.shape[0]\n",
    "hub_scores = [round((1.0/size),2) for i in range(size)]\n",
    "init_authority_scores = [round((1.0/size),2) for i in range(size)]\n",
    "authority_scores = init_authority_scores.copy()"
   ]
  },
  {
   "cell_type": "code",
   "execution_count": 52,
   "id": "540609c4",
   "metadata": {},
   "outputs": [],
   "source": [
    "for _ in range(25):\n",
    "    # Calculating the authority scores of the nodes\n",
    "    for j in range(size):\n",
    "        temp_auth = 0.0\n",
    "        for i in range(size):\n",
    "            if outlinks[i][j] == 1:\n",
    "                temp_auth += hub_scores[i]\n",
    "        authority_scores[j] = temp_auth\n",
    "            \n",
    "    # Normalizing the authority scores\n",
    "    auth_sum = sum(authority_scores)\n",
    "    # print(auth_sum)\n",
    "    for i in range(len(authority_scores)):\n",
    "        authority_scores[i] /= auth_sum\n",
    "        \n",
    "    # Calculating the hub scores of the nodes\n",
    "    for i in range(size):\n",
    "        temp_hub = 0.0\n",
    "        for j in range(size):\n",
    "            if outlinks[i][j] == 1:\n",
    "                temp_hub += init_authority_scores[j]\n",
    "        hub_scores[i] = temp_hub\n",
    "            \n",
    "    # Normalizing the hub scores\n",
    "    hub_sum = sum(hub_scores)\n",
    "    # print(hub_sum)\n",
    "    for i in range(len(hub_scores)):\n",
    "        hub_scores[i] /= hub_sum\n",
    "    \n",
    "    init_authority_scores = authority_scores.copy()"
   ]
  },
  {
   "cell_type": "code",
   "execution_count": 53,
   "id": "81bc3784",
   "metadata": {},
   "outputs": [],
   "source": [
    "l=[]\n",
    "for i in range(0,len(sites)):\n",
    "    l1=[]\n",
    "    l1.append(sites[i])\n",
    "    l1.append(hub_scores[i])\n",
    "    l1.append(authority_scores[i])\n",
    "    l.append(l1)"
   ]
  },
  {
   "cell_type": "code",
   "execution_count": 54,
   "id": "bb5cd212",
   "metadata": {},
   "outputs": [
    {
     "data": {
      "text/html": [
       "<div>\n",
       "<style scoped>\n",
       "    .dataframe tbody tr th:only-of-type {\n",
       "        vertical-align: middle;\n",
       "    }\n",
       "\n",
       "    .dataframe tbody tr th {\n",
       "        vertical-align: top;\n",
       "    }\n",
       "\n",
       "    .dataframe thead th {\n",
       "        text-align: right;\n",
       "    }\n",
       "</style>\n",
       "<table border=\"1\" class=\"dataframe\">\n",
       "  <thead>\n",
       "    <tr style=\"text-align: right;\">\n",
       "      <th></th>\n",
       "      <th>Site_name</th>\n",
       "      <th>Normalized_hub_scores</th>\n",
       "      <th>Normalized_authority_scores</th>\n",
       "    </tr>\n",
       "  </thead>\n",
       "  <tbody>\n",
       "    <tr>\n",
       "      <th>0</th>\n",
       "      <td>A</td>\n",
       "      <td>0.215596</td>\n",
       "      <td>0.134509</td>\n",
       "    </tr>\n",
       "    <tr>\n",
       "      <th>1</th>\n",
       "      <td>B</td>\n",
       "      <td>0.210286</td>\n",
       "      <td>0.154130</td>\n",
       "    </tr>\n",
       "    <tr>\n",
       "      <th>2</th>\n",
       "      <td>C</td>\n",
       "      <td>0.129612</td>\n",
       "      <td>0.298109</td>\n",
       "    </tr>\n",
       "    <tr>\n",
       "      <th>3</th>\n",
       "      <td>D</td>\n",
       "      <td>0.192508</td>\n",
       "      <td>0.344440</td>\n",
       "    </tr>\n",
       "    <tr>\n",
       "      <th>4</th>\n",
       "      <td>E</td>\n",
       "      <td>0.215596</td>\n",
       "      <td>0.068812</td>\n",
       "    </tr>\n",
       "    <tr>\n",
       "      <th>5</th>\n",
       "      <td>F</td>\n",
       "      <td>0.036401</td>\n",
       "      <td>0.000000</td>\n",
       "    </tr>\n",
       "  </tbody>\n",
       "</table>\n",
       "</div>"
      ],
      "text/plain": [
       "  Site_name  Normalized_hub_scores  Normalized_authority_scores\n",
       "0         A               0.215596                     0.134509\n",
       "1         B               0.210286                     0.154130\n",
       "2         C               0.129612                     0.298109\n",
       "3         D               0.192508                     0.344440\n",
       "4         E               0.215596                     0.068812\n",
       "5         F               0.036401                     0.000000"
      ]
     },
     "execution_count": 54,
     "metadata": {},
     "output_type": "execute_result"
    }
   ],
   "source": [
    "df = pd.DataFrame(l,columns=['Site_name','Normalized_hub_scores','Normalized_authority_scores'])\n",
    "df"
   ]
  }
 ],
 "metadata": {
  "kernelspec": {
   "display_name": "Python 3",
   "language": "python",
   "name": "python3"
  },
  "language_info": {
   "codemirror_mode": {
    "name": "ipython",
    "version": 3
   },
   "file_extension": ".py",
   "mimetype": "text/x-python",
   "name": "python",
   "nbconvert_exporter": "python",
   "pygments_lexer": "ipython3",
   "version": "3.8.8"
  }
 },
 "nbformat": 4,
 "nbformat_minor": 5
}
