{
 "cells": [
  {
   "cell_type": "markdown",
   "id": "f0b63fd7",
   "metadata": {},
   "source": [
    "### Name- Devshekhar Pattnaik\n",
    "\n",
    "### Reg No-19BCE1292\n",
    "\n",
    "### Slot-L19-20\n",
    "\n",
    "\n",
    "# <center> Web Mining Lab-10 </center>\n",
    "\n",
    "<br>"
   ]
  },
  {
   "cell_type": "markdown",
   "id": "463db7a6",
   "metadata": {},
   "source": [
    "### Q1. Implement the algorithm and show the output for “play golf problem”."
   ]
  },
  {
   "cell_type": "markdown",
   "id": "d7f9bc39",
   "metadata": {},
   "source": [
    "<u>Algorithm</u>\n",
    "\n",
    "1. Read the dataset\n",
    "2. Calculating the entropy of the whole dataset\n",
    "3. Calculating the entropy for a feature\n",
    "4. Calculating information gain for a feature\n",
    "5. Finding the most informative feature (feature with highest information gain)\n",
    "6. Adding a node to the tree\n",
    "7. Shrinking/Updating the dataset according to the pure class"
   ]
  },
  {
   "cell_type": "markdown",
   "id": "3234e48b",
   "metadata": {},
   "source": [
    "<u>Data structures Used</u>\n",
    "\n",
    "1. Array\n",
    "2. Dictionaries"
   ]
  },
  {
   "cell_type": "code",
   "execution_count": 1,
   "id": "b25487bc",
   "metadata": {},
   "outputs": [],
   "source": [
    "import math\n",
    "\n",
    "class Node:\n",
    "    def __init__(self, name):\n",
    "        self.name = name\n",
    "        self.label = None\n",
    "        self.decisionAttr = None\n",
    "        self.decisionGain = None\n",
    "        self.decisionValue = None\n",
    "        self.branches = []\n",
    "\n",
    "    def printTree(self):\n",
    "        self.printTreeRecurse(0)\n",
    "\n",
    "    def printTreeRecurse(self, level):\n",
    "        print ('\\t' * level + self.name),\n",
    "        if self.decisionAttr and self.decisionGain:\n",
    "            print ('split by ' + str(self.decisionAttr) + ' for a gain of ' + str(self.decisionGain)),\n",
    "        if self.label:\n",
    "            print (' ' + self.label),\n",
    "        #print ('\\n'),\n",
    "        level += 1\n",
    "        for branch in self.branches:\n",
    "            branch.printTreeRecurse(level)\n",
    "\n",
    "    def predictOutcome(self, cases, a):\n",
    "        predictions = []\n",
    "        for c in cases:\n",
    "            outcome = self.predictOutcomeRecurse(c, attributes)\n",
    "            predictions.append(outcome)\n",
    "        return predictions\n",
    "\n",
    "    def predictOutcomeRecurse(self, case, a):\n",
    "        if self.name == '':\n",
    "\n",
    "            # Leaf nodes\n",
    "            if self.label == '+':\n",
    "                return 'Yes'\n",
    "            elif self.label == '-':\n",
    "                return 'No'\n",
    "\n",
    "        index = a.index(self.decisionAttr)\n",
    "\n",
    "        if self.decisionValue == case[index]:\n",
    "            return self.branches[0].predictOutcomeRecurse(case, a)\n",
    "\n",
    "        if self.decisionGain:\n",
    "            # Traverse to the branch where branch.decisionValue is in the case\n",
    "            for b in self.branches:\n",
    "                if b.decisionValue == case[index]:\n",
    "                    return b.predictOutcomeRecurse(case, a)"
   ]
  },
  {
   "cell_type": "code",
   "execution_count": 2,
   "id": "7809c773",
   "metadata": {},
   "outputs": [],
   "source": [
    "# Returns the root node of the constructed decision tree\n",
    "def constructDecisionTree(examples, targetAttribute, attributes):\n",
    "    root = Node('')\n",
    "\n",
    "    # Examples are all positive\n",
    "    # The last attribute in the example is\n",
    "\n",
    "    if all(isPositive(example[-1]) for example in examples):\n",
    "        root.label = '+'\n",
    "        return root\n",
    "\n",
    "    # Examples are all negative\n",
    "    elif all(not isPositive(example[-1]) for example in examples):\n",
    "        root.label = '-'\n",
    "        return root\n",
    "\n",
    "    # Attributes is empty\n",
    "    elif not attributes:\n",
    "        root.label = getMostCommonLabel(examples)\n",
    "        return root\n",
    "    else:\n",
    "        result = getHighestInfoGainAttr(attributes, examples)\n",
    "        attr = result[0]\n",
    "        gain = result[1]\n",
    "        attrIndex = result[2]\n",
    "\n",
    "        root.decisionAttr = attr\n",
    "        root.decisionGain = gain\n",
    "\n",
    "        possibleValues = uniqueValues(attrIndex, examples)\n",
    "\n",
    "        for value in possibleValues:\n",
    "            newBranch = Node(attr + ' = ' + value)\n",
    "            newBranch.decisionAttr = attr\n",
    "            newBranch.decisionValue = value\n",
    "            root.branches.append(newBranch)\n",
    "            branchExamples = sorted(row for row in examples if row[attrIndex] == value)\n",
    "\n",
    "            if not branchExamples:\n",
    "                leaf = Node(getMostCommonValue(targetAttribute, examples, possibleValues))\n",
    "                newBranch.branches.append(leaf)\n",
    "            else:\n",
    "                newExamples = []\n",
    "                for example in branchExamples:\n",
    "                    newExample = []\n",
    "                    for i in range(len(example)):\n",
    "                        if not i == attrIndex:\n",
    "                            newExample.append(example[i])\n",
    "                    newExamples.append(newExample)\n",
    "\n",
    "                newBranch.branches.append(constructDecisionTree(newExamples, targetAttribute, [a for a in attributes if not a == attr]))\n",
    "\n",
    "    return root"
   ]
  },
  {
   "cell_type": "code",
   "execution_count": 3,
   "id": "570cc26b",
   "metadata": {},
   "outputs": [],
   "source": [
    "# Determines whether a word is positive ('yes', 'true', etc.)\n",
    "def isPositive(word):\n",
    "    word = word.lower()\n",
    "    return word == 'yes' or word == 'true' or word == 'y' or word == 't'"
   ]
  },
  {
   "cell_type": "code",
   "execution_count": 4,
   "id": "c0561323",
   "metadata": {},
   "outputs": [],
   "source": [
    "# Returns the most common label (+ or -) in the given list of nodes\n",
    "def getMostCommonLabel(nodes):\n",
    "    pCount = 0\n",
    "    nCount = 0\n",
    "\n",
    "    for node in nodes:\n",
    "        if node.label == '+':\n",
    "            pCount += 1\n",
    "        elif node.label == '-':\n",
    "            nCount += 1\n",
    "\n",
    "    if pCount >= nCount:\n",
    "        return '+'\n",
    "    else:\n",
    "        return '-'"
   ]
  },
  {
   "cell_type": "code",
   "execution_count": 5,
   "id": "6033f5cc",
   "metadata": {},
   "outputs": [],
   "source": [
    "# Returns the attribute with the highest information gain, as well as the info gain value\n",
    "def getHighestInfoGainAttr(attributes, examples):\n",
    "    totalRows = len(examples)\n",
    "    # Divide examples into positive and negative\n",
    "    posExamples = sorted(row for row in examples if isPositive(row[-1]))\n",
    "    negExamples = sorted(row for row in examples if not isPositive(row[-1]))\n",
    "\n",
    "    # Get the expected info needed for the entire data set\n",
    "    allExpectedInfo = computeExpectedInfo(len(posExamples), len(negExamples))\n",
    "\n",
    "    valuesGain = []\n",
    "\n",
    "    # Compute the entropy & gain of each attribute\n",
    "    for i, attr in enumerate(attributes):\n",
    "\n",
    "        # Don't check the target attribute\n",
    "        if attributes[-1] == attributes[i]:\n",
    "            break\n",
    "\n",
    "        values = uniqueValues(i, examples)\n",
    "\n",
    "        # Lists for the expected info & probability of each value\n",
    "        valuesExpectedInfo = []\n",
    "        valuesProbability = []\n",
    "\n",
    "        # Compute the expected info needed for each value\n",
    "        for value in values:\n",
    "            # Count how many positive & negative examples there are for the value\n",
    "            posExamplesOfValue = sorted(row for row in posExamples if row[i]==value)\n",
    "            negExamplesOfValue = sorted(row for row in negExamples if row[i]==value)\n",
    "            numPos = len(posExamplesOfValue)\n",
    "            numNeg = len(negExamplesOfValue)\n",
    "            # Compute the expected info & probability of the value & add them to the lists\n",
    "            valueExpectedInfo = computeExpectedInfo(numPos, numNeg)\n",
    "            valueProbability = float(numPos + numNeg) / float(totalRows)\n",
    "            valuesExpectedInfo.append(valueExpectedInfo)\n",
    "            valuesProbability.append(valueProbability)\n",
    "\n",
    "        # Compute entropy & gain of value and add gain to the list\n",
    "        valueEntropy = computeEntropy(valuesExpectedInfo, valuesProbability)\n",
    "        valueGain = allExpectedInfo - valueEntropy\n",
    "        valuesGain.append(valueGain)\n",
    "\n",
    "    # The index of the attribute with the max gain\n",
    "    index = valuesGain.index(max(valuesGain))\n",
    "\n",
    "    return [attributes[index], valuesGain[index], index]"
   ]
  },
  {
   "cell_type": "code",
   "execution_count": 6,
   "id": "57103f29",
   "metadata": {},
   "outputs": [],
   "source": [
    "# Returns the expected info needed\n",
    "# count1 is usually the number of positive examples\n",
    "# count2 is usually num of negative examples\n",
    "def computeExpectedInfo(count1, count2):\n",
    "    count1 = float(count1)\n",
    "    count2 = float(count2)\n",
    "    total = count1 + count2\n",
    "    prob1 = count1/total\n",
    "    prob2 = count2/total\n",
    "\n",
    "    # Can't call log(0)\n",
    "    if prob1 > 0.0 and prob2 > 0.0:\n",
    "        return -prob1 * math.log(prob1, 2.0) - prob2 * math.log(prob2, 2.0)\n",
    "    elif prob1 > 0.0:\n",
    "        return -prob1 * math.log(prob1, 2.0)\n",
    "    elif prob2 > 0.0:\n",
    "        return -prob2 * math.log(prob2, 2.0)\n",
    "    else:\n",
    "        print ('There was an error computing expected info.')\n",
    "        return 0"
   ]
  },
  {
   "cell_type": "code",
   "execution_count": 7,
   "id": "707b3e75",
   "metadata": {},
   "outputs": [],
   "source": [
    "# Compute entropy where p is a list of probabilities for each value and e is a\n",
    "# list of expected info for each value. p and e should be the same length.\n",
    "def computeEntropy(p, e):\n",
    "    entropy = 0.0\n",
    "    for i in range(len(p)):\n",
    "        entropy += p[i] * e[i]\n",
    "    return entropy"
   ]
  },
  {
   "cell_type": "code",
   "execution_count": 8,
   "id": "bf071dd0",
   "metadata": {},
   "outputs": [],
   "source": [
    "# Returns a list of the unique values of the given attribute (given by index) in the given examples\n",
    "def uniqueValues(attrIndex, examples):\n",
    "    values = []\n",
    "    for e in examples:\n",
    "        if e[attrIndex] not in values:\n",
    "            values.append(e[attrIndex])\n",
    "    return values"
   ]
  },
  {
   "cell_type": "code",
   "execution_count": 9,
   "id": "b5c8df26",
   "metadata": {},
   "outputs": [],
   "source": [
    "# Returns the most common value of the attribute in the examples\n",
    "# Values param is the possible value for that attribute\n",
    "def getMostCommonValue(attr, examples, values):\n",
    "    valueCounts = []\n",
    "\n",
    "    for value in values:\n",
    "        valueCount = 0\n",
    "        for example in examples:\n",
    "            if example[attr] == value:\n",
    "                valueCount += 1\n",
    "        valueCounts.append(valueCount)\n",
    "\n",
    "    maxIndex = valueCounts.index(max(valueCounts))\n",
    "    return values[maxIndex]"
   ]
  },
  {
   "cell_type": "code",
   "execution_count": 10,
   "id": "5cdba87f",
   "metadata": {},
   "outputs": [],
   "source": [
    "# Returns the decision tree from a file containing training data\n",
    "# where the first line contains the attributes separated by commas\n",
    "# and each other line contains a data example\n",
    "def constructTreeFromFile(filepath):\n",
    "    f = open(filepath, 'r')\n",
    "    attrLine = f.readline()\n",
    "    attributes = [a.strip() for a in attrLine.split(',')]\n",
    "    examples = []\n",
    "    for line in f:\n",
    "        example = [item.strip() for item in line.split(',')]\n",
    "        examples.append(example)\n",
    "\n",
    "    # The last attribute is always the target attribute\n",
    "    return constructDecisionTree(examples, attributes[-1], attributes)"
   ]
  },
  {
   "cell_type": "code",
   "execution_count": 11,
   "id": "f5718ddd",
   "metadata": {},
   "outputs": [],
   "source": [
    "# Returns a list of test cases for the decision tree (examples that don't have\n",
    "def parseTestCases(filepath):\n",
    "    f = open(filepath, 'r')\n",
    "    cases = []\n",
    "    for line in f:\n",
    "        case = [item.strip() for item in line.split(',')]\n",
    "        cases.append(case)\n",
    "\n",
    "    return cases"
   ]
  },
  {
   "cell_type": "code",
   "execution_count": 12,
   "id": "5ead8e9c",
   "metadata": {},
   "outputs": [],
   "source": [
    "def getAttributesFromFile(filepath):\n",
    "    f = open(filepath, 'r')\n",
    "    attrLine = f.readline()\n",
    "    return [a.strip() for a in attrLine.split(',')]"
   ]
  },
  {
   "cell_type": "code",
   "execution_count": 13,
   "id": "8db2e1b7",
   "metadata": {},
   "outputs": [
    {
     "name": "stdout",
     "output_type": "stream",
     "text": [
      "Please enter the path to a file containing training data:\n",
      "play_tennis.csv\n",
      "\n",
      "split by Outlook for a gain of 0.2467498197744391\n",
      "\tOutlook = Sunny\n",
      "\t\t\n",
      "split by Humidity for a gain of 0.9709505944546686\n",
      "\t\t\tHumidity = Normal\n",
      "\t\t\t\t\n",
      " +\n",
      "\t\t\tHumidity = High\n",
      "\t\t\t\t\n",
      " -\n",
      "\tOutlook = Overcast\n",
      "\t\t\n",
      " +\n",
      "\tOutlook = Rain\n",
      "\t\t\n",
      "split by Wind for a gain of 0.4199730940219749\n",
      "\t\t\tWind = Strong\n",
      "\t\t\t\t\n",
      "split by Temperature for a gain of 0.2516291673878229\n",
      "\t\t\t\t\tTemperature = Cool\n",
      "\t\t\t\t\t\t\n",
      " -\n",
      "\t\t\t\t\tTemperature = Mild\n",
      "\t\t\t\t\t\t\n",
      "split by Humidity for a gain of 1.0\n",
      "\t\t\t\t\t\t\tHumidity = High\n",
      "\t\t\t\t\t\t\t\t\n",
      " -\n",
      "\t\t\t\t\t\t\tHumidity = Normal\n",
      "\t\t\t\t\t\t\t\t\n",
      " +\n",
      "\t\t\tWind = Weak\n",
      "\t\t\t\t\n",
      " +\n",
      "Please enter the path to a file containing cases to be tested:\n",
      "play_tennis_test.csv\n",
      "['No']\n"
     ]
    }
   ],
   "source": [
    "trainingPath = input('Please enter the path to a file containing training data:\\n')\n",
    "tree = constructTreeFromFile(trainingPath)\n",
    "tree.printTree()\n",
    "\n",
    "attributes = getAttributesFromFile(trainingPath)\n",
    "attributes.pop(-1)\n",
    "\n",
    "testingPath =   input('Please enter the path to a file containing cases to be tested:\\n')\n",
    "testCases = parseTestCases(testingPath)\n",
    "outcomes = tree.predictOutcome(testCases, attributes)\n",
    "print (outcomes)"
   ]
  },
  {
   "cell_type": "markdown",
   "id": "4f30dee0",
   "metadata": {},
   "source": [
    "### Q2. Take a collection of documents. Classify using simple decision tree model. Draw your inferences."
   ]
  },
  {
   "cell_type": "code",
   "execution_count": 14,
   "id": "b598df9f",
   "metadata": {},
   "outputs": [],
   "source": [
    "from sklearn.tree import DecisionTreeClassifier \n",
    "from pprint import pprint \n",
    "from sklearn.datasets import fetch_20newsgroups \n",
    "from sklearn.feature_extraction.text import CountVectorizer \n",
    "from sklearn.feature_extraction.text import TfidfVectorizer \n",
    "import numpy as np \n",
    "from sklearn.model_selection import cross_val_score \n",
    "from sklearn import metrics \n",
    "import matplotlib.pyplot as plt \n",
    "from sklearn.model_selection import learning_curve \n",
    "import pandas as pd "
   ]
  },
  {
   "cell_type": "code",
   "execution_count": 15,
   "id": "3b1510d9",
   "metadata": {},
   "outputs": [],
   "source": [
    "K_FOLD = 20 \n",
    "RANDOM_STATE = 730 \n",
    "MAX_DEPTH = 74 \n",
    "MIN_SAMPLES_SPLIT = 6 "
   ]
  },
  {
   "cell_type": "code",
   "execution_count": 16,
   "id": "ad866e7a",
   "metadata": {},
   "outputs": [
    {
     "name": "stdout",
     "output_type": "stream",
     "text": [
      "['alt.atheism',\n",
      " 'comp.graphics',\n",
      " 'sci.electronics',\n",
      " 'sci.space',\n",
      " 'talk.politics.misc']\n"
     ]
    }
   ],
   "source": [
    "categories = ['alt.atheism', 'comp.graphics', 'sci.electronics', 'sci.space', 'talk.politics.misc'] \n",
    "#categories = ['comp.graphics', 'comp.os.ms-windows.misc', 'comp.sys.ibm.pc.hardware', 'comp.sys.mac.hardware', 'comp.windows.x'] \n",
    "news_train = fetch_20newsgroups(subset='train', remove=('headers', 'footers', 'quotes'), categories=categories) #, 'quotes'\n",
    "news_test = fetch_20newsgroups(subset='test', remove=('headers', 'footers', 'quotes'), categories=categories) #, 'quotes' \n",
    "pprint(list(news_train.target_names)) "
   ]
  },
  {
   "cell_type": "code",
   "execution_count": 17,
   "id": "fdacb15c",
   "metadata": {},
   "outputs": [
    {
     "name": "stdout",
     "output_type": "stream",
     "text": [
      "(2713, 10000)\n",
      "(2713,)\n"
     ]
    }
   ],
   "source": [
    "vectorizer = TfidfVectorizer(max_features=10000, stop_words='english') \n",
    "news_train_vectors = vectorizer.fit_transform(news_train.data) \n",
    "news_test_vectors = vectorizer.transform(news_test.data) \n",
    "\n",
    "print(news_train_vectors.shape) \n",
    "print(news_train.target.shape) "
   ]
  },
  {
   "cell_type": "code",
   "execution_count": 18,
   "id": "eed3a70b",
   "metadata": {},
   "outputs": [],
   "source": [
    "Xtr = news_train_vectors # store training feature matrix in \"Xtr\" \n",
    "#print(\"Xtr:\", Xtr) \n",
    "#print(\"Size: \", Xtr.shape) \n",
    "Ytr = news_train.target # store training response vector in \"ytr\" \n",
    "#print(\"Ytr:\", Ytr) "
   ]
  },
  {
   "cell_type": "code",
   "execution_count": 19,
   "id": "4844672d",
   "metadata": {},
   "outputs": [],
   "source": [
    "Xtt = news_test_vectors \n",
    "#print(\"Xtt:\", Xtt) \n",
    "Ytt = news_test.target \n",
    "#print(\"Ytt:\", Ytt) "
   ]
  },
  {
   "cell_type": "code",
   "execution_count": 20,
   "id": "df9eb319",
   "metadata": {},
   "outputs": [],
   "source": [
    "# Implementing classification model- using Decision Tree Classifier \n",
    "clf = DecisionTreeClassifier(ccp_alpha= 0, max_depth=74, random_state=RANDOM_STATE, min_samples_split = MIN_SAMPLES_SPLIT) \n",
    "clf.fit(Xtr, Ytr) \n",
    "y_pred = clf.predict(Xtt) \n",
    "y_pred_score_mnb = clf.predict_proba(Xtt) "
   ]
  },
  {
   "cell_type": "code",
   "execution_count": 21,
   "id": "9aace65d",
   "metadata": {},
   "outputs": [
    {
     "name": "stdout",
     "output_type": "stream",
     "text": [
      "Decision Tree Classifier accuracy: 59.49019607843138%\n"
     ]
    }
   ],
   "source": [
    "# cross-validation with tree model \n",
    "score = cross_val_score(clf, Xtr, Ytr, cv=K_FOLD, scoring='accuracy') \n",
    "print(\"Decision Tree Classifier accuracy: \" + str(100 * score.mean()) + \"%\") "
   ]
  },
  {
   "cell_type": "code",
   "execution_count": 22,
   "id": "059b7806",
   "metadata": {},
   "outputs": [],
   "source": [
    "# K = np.arange(2,27,2) \n",
    "# MAX_DEPTHS = np.arange(1, 80) \n",
    "# sc = [] \n",
    "# for k in K: \n",
    "#     f = [] \n",
    "#     for d in MAX_DEPTHS: \n",
    "#         f.append(100 * cross_val_score(DecisionTreeClassifier(max_depth=d), Xtr, Ytr, cv=k, scoring='accuracy').mean()) \n",
    "#     sc.append(max(f)) \n",
    "# plt.plot(K, sc) \n",
    "# plt.xlabel('Value of K') \n",
    "# plt.ylabel('Score (%)')\n",
    "# plt.title(\"Decision tree classifier\") \n",
    "# plt.show() \n",
    "# print(\"Best K: \" + str(K[sc.index(max(sc))])) \n",
    "# print(\"Score: \" + str(max(sc))) \n"
   ]
  },
  {
   "cell_type": "code",
   "execution_count": 23,
   "id": "ea9f0f7c",
   "metadata": {},
   "outputs": [],
   "source": [
    "# f = [] \n",
    "# MAX_DEPTHS = np.arange(1, 80) \n",
    "# for d in MAX_DEPTHS: \n",
    "#     f.append(100 * cross_val_score(DecisionTreeClassifier(max_depth=d), Xtr, Ytr, cv=20, scoring='accuracy').mean()) \n",
    "# #print(f) \n",
    "# plt.plot(MAX_DEPTHS, f) \n",
    "# plt.xlabel('Value of MAX_DEPTH parameter') \n",
    "# plt.ylabel('Score (%)') plt.title(\"k = 20\") \n",
    "# plt.show() \n",
    "# print(\"Best depth: \" + str(MAX_DEPTHS[f.index(max(f))])) \n",
    "# print(\"Score: \" + str(max(f)))"
   ]
  },
  {
   "cell_type": "code",
   "execution_count": 24,
   "id": "0bf3622e",
   "metadata": {},
   "outputs": [],
   "source": [
    "# f = [] \n",
    "# RANDOM_STATES = np.arange(0, 1000, 5) \n",
    "# for r in RANDOM_STATES: \n",
    "#     f.append(100 * cross_val_score(DecisionTreeClassifier(max_depth=74, random_state=r), Xtr, Ytr, cv=20, scoring='accuracy').mean()) \n",
    "# #print(f) \n",
    "# plt.plot(RANDOM_STATES, f) \n",
    "# plt.xlabel('Value of RANDOM_STATE parameter') \n",
    "# plt.ylabel('Score (%)') \n",
    "# plt.title(\"k = 20 and depth = 74\") \n",
    "# plt.show() \n",
    "# print(\"Best random_state: \" + str(RANDOM_STATES[f.index(max(f))])) \n",
    "# print(\"Score: \" + str(max(f)))"
   ]
  },
  {
   "cell_type": "code",
   "execution_count": 25,
   "id": "5793b45d",
   "metadata": {},
   "outputs": [],
   "source": [
    "# ALPHAS = np.arange(0, 1, 0.02) \n",
    "# f = [] \n",
    "# for a in ALPHAS: \n",
    "#     f.append(100 * cross_val_score(DecisionTreeClassifier(ccp_alpha= a, max_depth=74, random_state=RANDOM_STATE, min_samples_split = MIN_SAMPLES_SPLIT), Xtr, Ytr, cv=20, scoring='accuracy').mean()) \n",
    "#     print(a) \n",
    "# #print(f) \n",
    "# plt.plot(ALPHAS, f) \n",
    "# plt.xlabel('Value of CCP_ALPHA parameter') \n",
    "# plt.ylabel('Score (%)') \n",
    "# plt.title(\"k = 20, depth = 74 and random_state = 730\") \n",
    "# plt.show() \n",
    "# print(\"Best ccp_alpha: \" + str(ALPHAS[f.index(max(f))]))\n",
    "# print(\"Score: \" + str(max(f)))"
   ]
  },
  {
   "cell_type": "code",
   "execution_count": 28,
   "id": "7a112678",
   "metadata": {},
   "outputs": [
    {
     "data": {
      "image/png": "[encoded data removed]",
      "text/plain": [
       "<Figure size 576x396 with 1 Axes>"
      ]
     },
     "metadata": {},
     "output_type": "display_data"
    }
   ],
   "source": [
    "#LEARNING CURVE Mean Squared Error \n",
    "train_sizes = [1, 100, 200, 500, 1000, 1500, 2000, 2170] \n",
    "train_sizes, train_scores, validation_scores = learning_curve( estimator=DecisionTreeClassifier(max_depth=74, random_state=RANDOM_STATE, min_samples_split = MIN_SAMPLES_SPLIT), X=Xtr, y=Ytr, train_sizes=train_sizes,cv=K_FOLD, scoring='neg_mean_squared_error') \n",
    "train_scores_mean = -train_scores.mean(axis = 1) \n",
    "validation_scores_mean = -validation_scores.mean(axis = 1) \n",
    "plt.style.use('seaborn') \n",
    "plt.plot(train_sizes, train_scores_mean, label = 'Training error') \n",
    "plt.plot(train_sizes, validation_scores_mean, label = 'Validation error') \n",
    "plt.ylabel('MSE', fontsize = 14) \n",
    "plt.xlabel('Training set size', fontsize = 14) \n",
    "plt.title('Learning curves for a Decision Tree Classifier', fontsize = 18, y = 1.03) \n",
    "plt.legend() \n",
    "plt.show()"
   ]
  },
  {
   "cell_type": "code",
   "execution_count": 27,
   "id": "681df8fb",
   "metadata": {},
   "outputs": [
    {
     "name": "stderr",
     "output_type": "stream",
     "text": [
      "No handles with labels found to put in legend.\n"
     ]
    },
    {
     "data": {
      "image/png": "[encoded data removed]",
      "text/plain": [
       "<Figure size 576x396 with 1 Axes>"
      ]
     },
     "metadata": {},
     "output_type": "display_data"
    }
   ],
   "source": [
    "#LEARNING CURVE \n",
    "train_sizes = [1, 100, 200, 500, 1000, 1500, 2000, 2170] \n",
    "train_sizes, train_scores, validation_scores = learning_curve( DecisionTreeClassifier(max_depth=74, random_state=RANDOM_STATE, min_samples_split = MIN_SAMPLES_SPLIT), Xtr, Ytr, train_sizes=train_sizes,cv=K_FOLD, scoring='accuracy') \n",
    "\n",
    "validation_scores_mean = validation_scores.mean(axis = 1) \n",
    "plt.style.use('seaborn') \n",
    "plt.plot(train_sizes, validation_scores_mean) \n",
    "plt.ylabel('Score', fontsize = 14) \n",
    "plt.xlabel('Training set size', fontsize = 14) \n",
    "plt.title('Learning curve for a Decision Tree Classifier', fontsize = 18, y = 1.03) \n",
    "plt.legend()\n",
    "plt.show()"
   ]
  },
  {
   "cell_type": "markdown",
   "id": "3b3b4264",
   "metadata": {},
   "source": [
    "### <u>Inference</u>\n",
    "\n",
    "A steep learning curve can be observed using the classification of documents based on topics related to atheism, graphics, electronics, space and politics."
   ]
  }
 ],
 "metadata": {
  "kernelspec": {
   "display_name": "Python 3",
   "language": "python",
   "name": "python3"
  },
  "language_info": {
   "codemirror_mode": {
    "name": "ipython",
    "version": 3
   },
   "file_extension": ".py",
   "mimetype": "text/x-python",
   "name": "python",
   "nbconvert_exporter": "python",
   "pygments_lexer": "ipython3",
   "version": "3.8.8"
  }
 },
 "nbformat": 4,
 "nbformat_minor": 5
}
