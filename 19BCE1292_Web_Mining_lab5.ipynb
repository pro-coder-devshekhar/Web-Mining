{
  "nbformat": 4,
  "nbformat_minor": 0,
  "metadata": {
    "colab": {
      "name": "19BCE1292_Web_Mining_lab5.ipynb",
      "provenance": [],
      "collapsed_sections": [],
      "include_colab_link": true
    },
    "kernelspec": {
      "display_name": "Python 3",
      "language": "python",
      "name": "python3"
    },
    "language_info": {
      "codemirror_mode": {
        "name": "ipython",
        "version": 3
      },
      "file_extension": ".py",
      "mimetype": "text/x-python",
      "name": "python",
      "nbconvert_exporter": "python",
      "pygments_lexer": "ipython3",
      "version": "3.8.8"
    }
  },
  "cells": [
    {
      "cell_type": "markdown",
      "metadata": {
        "id": "view-in-github",
        "colab_type": "text"
      },
      "source": [
        "<a href=\"https://colab.research.google.com/github/pro-coder-devshekhar/Web-Mining/blob/main/19BCE1292_Web_Mining_lab5.ipynb\" target=\"_parent\"><img src=\"https://colab.research.google.com/assets/colab-badge.svg\" alt=\"Open In Colab\"/></a>"
      ]
    },
    {
      "cell_type": "markdown",
      "metadata": {
        "id": "e32KJOzFqcV2"
      },
      "source": [
        "### **Name- Devshekhar Pattnaik**\n",
        "\n",
        "### **Reg No-19BCE1292**\n",
        "\n",
        "### **Slot-L19-20**\n",
        "\n",
        "\n",
        "# **<center> Web Mining Lab-5 </center>**\n",
        "\n",
        "<br>"
      ]
    },
    {
      "cell_type": "markdown",
      "metadata": {
        "id": "6_nGHB-MqcV4"
      },
      "source": [
        "<b>1. Write a Naïve Bayes Classifier in python without using any package for the following dataset</b>"
      ]
    },
    {
      "cell_type": "markdown",
      "metadata": {
        "id": "l7zlIhd0qcV5"
      },
      "source": [
        "<u>Algorithm</u>\n",
        "\n",
        "1. Caluculate the probabilities of target variables and store in a list\n",
        "2. Caluculate p(x/ci) for each attribute in dataset for each unique target variables\n",
        "3. Raise the powers of each caluculated p(x/ci) according to the given query\n",
        "4. Multiply each p(x/ci) for each unique target variable in dataset and store in a list\n",
        "5. Multiply each caluculated values with their respective probabilities\n",
        "6. Print the value target variable which has max p(x/query)"
      ]
    },
    {
      "cell_type": "markdown",
      "metadata": {
        "id": "PJCZk0vrqcV5"
      },
      "source": [
        "<u>Data structures used</u>\n",
        "\n",
        "1.   List"
      ]
    },
    {
      "cell_type": "code",
      "metadata": {
        "colab": {
          "base_uri": "https://localhost:8080/",
          "height": 265
        },
        "id": "wFPxGY4peN0H",
        "outputId": "4e82a31a-c068-4c5f-f001-39556c67e4a3"
      },
      "source": [
        "import pandas as pd\n",
        "dataset=pd.read_csv('category.csv')\n",
        "dataset"
      ],
      "execution_count": null,
      "outputs": [
        {
          "data": {
            "text/html": [
              "<div>\n",
              "<style scoped>\n",
              "    .dataframe tbody tr th:only-of-type {\n",
              "        vertical-align: middle;\n",
              "    }\n",
              "\n",
              "    .dataframe tbody tr th {\n",
              "        vertical-align: top;\n",
              "    }\n",
              "\n",
              "    .dataframe thead th {\n",
              "        text-align: right;\n",
              "    }\n",
              "</style>\n",
              "<table border=\"1\" class=\"dataframe\">\n",
              "  <thead>\n",
              "    <tr style=\"text-align: right;\">\n",
              "      <th></th>\n",
              "      <th>Document</th>\n",
              "      <th>TDF</th>\n",
              "      <th>Nifty</th>\n",
              "      <th>Sidhu</th>\n",
              "      <th>BJP</th>\n",
              "      <th>Sensex</th>\n",
              "      <th>Sixer</th>\n",
              "      <th>Congress</th>\n",
              "      <th>Century</th>\n",
              "      <th>Category</th>\n",
              "    </tr>\n",
              "  </thead>\n",
              "  <tbody>\n",
              "    <tr>\n",
              "      <th>0</th>\n",
              "      <td>D1</td>\n",
              "      <td>4</td>\n",
              "      <td>0</td>\n",
              "      <td>3</td>\n",
              "      <td>5</td>\n",
              "      <td>1</td>\n",
              "      <td>0</td>\n",
              "      <td>6</td>\n",
              "      <td>0</td>\n",
              "      <td>Politics</td>\n",
              "    </tr>\n",
              "    <tr>\n",
              "      <th>1</th>\n",
              "      <td>D2</td>\n",
              "      <td>0</td>\n",
              "      <td>5</td>\n",
              "      <td>0</td>\n",
              "      <td>2</td>\n",
              "      <td>6</td>\n",
              "      <td>0</td>\n",
              "      <td>1</td>\n",
              "      <td>0</td>\n",
              "      <td>Business</td>\n",
              "    </tr>\n",
              "    <tr>\n",
              "      <th>2</th>\n",
              "      <td>D3</td>\n",
              "      <td>0</td>\n",
              "      <td>0</td>\n",
              "      <td>6</td>\n",
              "      <td>1</td>\n",
              "      <td>0</td>\n",
              "      <td>4</td>\n",
              "      <td>1</td>\n",
              "      <td>2</td>\n",
              "      <td>Sports</td>\n",
              "    </tr>\n",
              "    <tr>\n",
              "      <th>3</th>\n",
              "      <td>D4</td>\n",
              "      <td>4</td>\n",
              "      <td>1</td>\n",
              "      <td>0</td>\n",
              "      <td>1</td>\n",
              "      <td>1</td>\n",
              "      <td>0</td>\n",
              "      <td>6</td>\n",
              "      <td>0</td>\n",
              "      <td>Politics</td>\n",
              "    </tr>\n",
              "    <tr>\n",
              "      <th>4</th>\n",
              "      <td>D5</td>\n",
              "      <td>0</td>\n",
              "      <td>0</td>\n",
              "      <td>0</td>\n",
              "      <td>0</td>\n",
              "      <td>0</td>\n",
              "      <td>5</td>\n",
              "      <td>0</td>\n",
              "      <td>6</td>\n",
              "      <td>Sports</td>\n",
              "    </tr>\n",
              "    <tr>\n",
              "      <th>5</th>\n",
              "      <td>D6</td>\n",
              "      <td>0</td>\n",
              "      <td>4</td>\n",
              "      <td>0</td>\n",
              "      <td>2</td>\n",
              "      <td>6</td>\n",
              "      <td>0</td>\n",
              "      <td>0</td>\n",
              "      <td>1</td>\n",
              "      <td>Business</td>\n",
              "    </tr>\n",
              "    <tr>\n",
              "      <th>6</th>\n",
              "      <td>D7</td>\n",
              "      <td>5</td>\n",
              "      <td>0</td>\n",
              "      <td>0</td>\n",
              "      <td>3</td>\n",
              "      <td>0</td>\n",
              "      <td>0</td>\n",
              "      <td>5</td>\n",
              "      <td>0</td>\n",
              "      <td>Politics</td>\n",
              "    </tr>\n",
              "  </tbody>\n",
              "</table>\n",
              "</div>"
            ],
            "text/plain": [
              "  Document  TDF  Nifty  Sidhu  BJP  Sensex  Sixer  Congress  Century  Category\n",
              "0       D1    4      0      3    5       1      0         6        0  Politics\n",
              "1       D2    0      5      0    2       6      0         1        0  Business\n",
              "2       D3    0      0      6    1       0      4         1        2    Sports\n",
              "3       D4    4      1      0    1       1      0         6        0  Politics\n",
              "4       D5    0      0      0    0       0      5         0        6    Sports\n",
              "5       D6    0      4      0    2       6      0         0        1  Business\n",
              "6       D7    5      0      0    3       0      0         5        0  Politics"
            ]
          },
          "execution_count": 1,
          "metadata": {},
          "output_type": "execute_result"
        }
      ]
    },
    {
      "cell_type": "code",
      "metadata": {
        "id": "xTgCZQgAfW9E"
      },
      "source": [
        "def prob(category):\n",
        "    count=0\n",
        "    for x in dataset['Category']:\n",
        "        if x==category:\n",
        "            count=count+1\n",
        "    return (count/len(dataset))"
      ],
      "execution_count": null,
      "outputs": []
    },
    {
      "cell_type": "code",
      "metadata": {
        "colab": {
          "base_uri": "https://localhost:8080/"
        },
        "id": "5zayGoJchXxB",
        "outputId": "f026f69c-acea-441e-db5f-1f7bf650b9f2"
      },
      "source": [
        "l1=[]\n",
        "l5=[]\n",
        "print(\"pc(i)\")\n",
        "for i in dataset['Category'].unique():\n",
        "    l5.append(i)\n",
        "    print(prob(i))\n",
        "    l1.append(prob(i))"
      ],
      "execution_count": null,
      "outputs": [
        {
          "name": "stdout",
          "output_type": "stream",
          "text": [
            "pc(i)\n",
            "0.42857142857142855\n",
            "0.2857142857142857\n",
            "0.2857142857142857\n"
          ]
        }
      ]
    },
    {
      "cell_type": "code",
      "metadata": {
        "id": "qN9wesE9hZzQ"
      },
      "source": [
        "A=dataset.iloc[:,[1,2,3,4,5,6,7,8]]\n",
        "def given(ai,cl):\n",
        "    p=0\n",
        "    total=0\n",
        "    i=0\n",
        "    for x in dataset['Category']:\n",
        "        if x==cl:\n",
        "            for j in A.iloc[i]:\n",
        "                total=total+j\n",
        "            for k in A.iloc[i,[ai]]:\n",
        "                p=p+k\n",
        "        i=i+1\n",
        "    l=format((p+1)/(total+len(dataset)),'.2f')\n",
        "    return l"
      ],
      "execution_count": null,
      "outputs": []
    },
    {
      "cell_type": "code",
      "metadata": {
        "colab": {
          "base_uri": "https://localhost:8080/"
        },
        "id": "BTijk6F4hcfx",
        "outputId": "28c3e173-7ed8-4f68-ae6c-0e1a934dc25f"
      },
      "source": [
        "l2=[]\n",
        "l3=[0,3,0,2,6,0,2,1]\n",
        "for x in dataset['Category'].unique():\n",
        "    s=1\n",
        "    print(x,end=' ')\n",
        "    for i in range(0,len(A.columns)):\n",
        "        k=given(i,x)\n",
        "        print(k,end=' ')\n",
        "        s=s*pow(float(k),l3[i])\n",
        "    print('\\n')\n",
        "    l2.append(s)\n",
        "print(l2) "
      ],
      "execution_count": null,
      "outputs": [
        {
          "name": "stdout",
          "output_type": "stream",
          "text": [
            "Politics 0.27 0.04 0.08 0.19 0.06 0.02 0.35 0.02 \n",
            "\n",
            "Business 0.03 0.29 0.03 0.15 0.38 0.03 0.06 0.06 \n",
            "\n",
            "Sports 0.03 0.03 0.22 0.06 0.03 0.31 0.06 0.28 \n",
            "\n",
            "[2.6409535487999995e-16, 3.5688791550116724e-10, 7.142567039999998e-20]\n"
          ]
        }
      ]
    },
    {
      "cell_type": "code",
      "metadata": {
        "colab": {
          "base_uri": "https://localhost:8080/"
        },
        "id": "uJ9dhafThf30",
        "outputId": "e29ac56b-2a6c-4b44-c745-c7ab8b04b6a4"
      },
      "source": [
        "l4=[]\n",
        "for i in range(0,len(l1)):\n",
        "    l4.append(l1[i]*l2[i])\n",
        "m=0\n",
        "for i in range(0,len(l4)):\n",
        "    if l4[i]>l4[m]:\n",
        "        m=i\n",
        "print(\"Predicted Category:\",l5[m])"
      ],
      "execution_count": null,
      "outputs": [
        {
          "name": "stdout",
          "output_type": "stream",
          "text": [
            "Predicted Category: Business\n"
          ]
        }
      ]
    },
    {
      "cell_type": "markdown",
      "metadata": {
        "id": "uo33PWFRqcV-"
      },
      "source": [
        "<br>\n",
        "<b>2. Take any large text corpora, do the necessary preprocessing and built a Naïve Bayes Classifier and draw the inferences.</b>"
      ]
    },
    {
      "cell_type": "code",
      "metadata": {
        "id": "_zYUl0jYhiup"
      },
      "source": [
        "%matplotlib inline\n",
        "import numpy as np\n",
        "import matplotlib.pyplot as plt\n",
        "import seaborn as sns; sns.set()\n",
        "from sklearn import metrics"
      ],
      "execution_count": null,
      "outputs": []
    },
    {
      "cell_type": "code",
      "metadata": {
        "colab": {
          "base_uri": "https://localhost:8080/"
        },
        "id": "ivS1_9jWh1k_",
        "outputId": "f4f2e030-b9b7-4e5a-d468-fac23d48c51d"
      },
      "source": [
        "df = pd.read_csv('sentiment.csv', delimiter=',')\n",
        "df.info()"
      ],
      "execution_count": null,
      "outputs": [
        {
          "name": "stdout",
          "output_type": "stream",
          "text": [
            "<class 'pandas.core.frame.DataFrame'>\n",
            "RangeIndex: 99999 entries, 0 to 99998\n",
            "Data columns (total 4 columns):\n",
            " #   Column      Non-Null Count  Dtype \n",
            "---  ------      --------------  ----- \n",
            " 0   PhraseId    99999 non-null  int64 \n",
            " 1   SentenceId  99999 non-null  int64 \n",
            " 2   Phrase      99999 non-null  object\n",
            " 3   Sentiment   99999 non-null  int64 \n",
            "dtypes: int64(3), object(1)\n",
            "memory usage: 3.1+ MB\n"
          ]
        }
      ]
    },
    {
      "cell_type": "code",
      "metadata": {
        "id": "6sExRibxiUqS"
      },
      "source": [
        "from sklearn.feature_extraction.text import CountVectorizer\n",
        "from nltk.tokenize import RegexpTokenizer\n",
        "token = RegexpTokenizer(r'[a-zA-Z0-9]+')\n",
        "cv = CountVectorizer(stop_words='english',ngram_range = (1,1),tokenizer = token.tokenize)\n",
        "text_counts = cv.fit_transform(df['Phrase'])"
      ],
      "execution_count": null,
      "outputs": []
    },
    {
      "cell_type": "code",
      "metadata": {
        "id": "cIfeyxi2jUeo"
      },
      "source": [
        "from sklearn.model_selection import train_test_split\n",
        "X_train, X_test, Y_train, Y_test = train_test_split(text_counts, df['Sentiment'], test_size=0.25, random_state=5)"
      ],
      "execution_count": null,
      "outputs": []
    },
    {
      "cell_type": "code",
      "metadata": {
        "id": "C7X2-A5tie0O"
      },
      "source": [
        "from sklearn.naive_bayes import GaussianNB\n",
        "GNB = GaussianNB()"
      ],
      "execution_count": null,
      "outputs": []
    },
    {
      "cell_type": "code",
      "metadata": {
        "id": "Z8jD2VlmqcV_"
      },
      "source": [
        "GNB.fit(X_train.toarray(), Y_train)\n",
        "accuracy_score = metrics.accuracy_score(GNB.predict(X_test.toarray()),Y_test)"
      ],
      "execution_count": null,
      "outputs": []
    },
    {
      "cell_type": "code",
      "metadata": {
        "id": "gButxLsCqcWA",
        "outputId": "c90e976c-aff2-4dad-de8c-7621b8942161"
      },
      "source": [
        "print('GNB accuracy = ' + str('{:4.2f}'.format(accuracy_score*100))+'%')"
      ],
      "execution_count": null,
      "outputs": [
        {
          "name": "stdout",
          "output_type": "stream",
          "text": [
            "GNB accuracy = 18.93%\n"
          ]
        }
      ]
    },
    {
      "cell_type": "code",
      "metadata": {
        "id": "56dzDh8cigHm",
        "outputId": "0599e125-3b70-4bc4-edb4-ba40473ce8a3"
      },
      "source": [
        "from sklearn.naive_bayes import MultinomialNB\n",
        "MNB = MultinomialNB()\n",
        "MNB.fit(X_train, Y_train)\n",
        "predicted = MNB.predict(X_test)\n",
        "accuracy_score = metrics.accuracy_score(predicted, Y_test)\n",
        "print(str('{:04.2f}'.format(accuracy_score*100))+'%')"
      ],
      "execution_count": null,
      "outputs": [
        {
          "name": "stdout",
          "output_type": "stream",
          "text": [
            "60.70%\n"
          ]
        }
      ]
    }
  ]
}