{
  "nbformat": 4,
  "nbformat_minor": 0,
  "metadata": {
    "colab": {
      "name": "19BCE1292_Web-Mining-DA1.ipynb",
      "provenance": [],
      "collapsed_sections": [],
      "authorship_tag": "ABX9TyMkHdfukLdOtkHMwx5nbQnX",
      "include_colab_link": true
    },
    "kernelspec": {
      "name": "python3",
      "display_name": "Python 3"
    },
    "language_info": {
      "name": "python"
    }
  },
  "cells": [
    {
      "cell_type": "markdown",
      "metadata": {
        "id": "view-in-github",
        "colab_type": "text"
      },
      "source": [
        "<a href=\"https://colab.research.google.com/github/pro-coder-devshekhar/Web-Mining/blob/main/19BCE1292_Web_Mining_DA1.ipynb\" target=\"_parent\"><img src=\"https://colab.research.google.com/assets/colab-badge.svg\" alt=\"Open In Colab\"/></a>"
      ]
    },
    {
      "cell_type": "markdown",
      "metadata": {
        "id": "3jzucX-0DrzW"
      },
      "source": [
        "### **Name- Devshekhar Pattnaik**\n",
        "\n",
        "### **Reg No-19BCE1292**\n",
        "\n",
        "### **Slot-A2**\n",
        "\n",
        "\n",
        "# <center> **Web Mining DA-1**</center>\n",
        "\n"
      ]
    },
    {
      "cell_type": "markdown",
      "metadata": {
        "id": "rICfs7NIEMx1"
      },
      "source": [
        "**Q. Demonstrate the development of inverted index and subsequent querying/search among collection of text documents using Whoosh, a pure-python library. Give explanation of your solution and include necessary screenshots of your implementation.**"
      ]
    },
    {
      "cell_type": "code",
      "metadata": {
        "id": "s3vxXguK7oCh"
      },
      "source": [
        "import os, os.path \n",
        "from whoosh import index \n",
        "from whoosh.fields import Schema, TEXT, ID "
      ],
      "execution_count": 17,
      "outputs": []
    },
    {
      "cell_type": "markdown",
      "metadata": {
        "id": "WMiKPA3TEkIt"
      },
      "source": [
        "The above code imports required libraries from executing the program"
      ]
    },
    {
      "cell_type": "code",
      "metadata": {
        "id": "LyLDmHNV8xVn"
      },
      "source": [
        "if not os.path.exists(\"indexdir\"): \n",
        "  os.mkdir(\"indexdir\") \n",
        "\n",
        "schema = Schema(title = TEXT(stored=True), path=ID(stored=True), content=TEXT(stored=True)) \n",
        "ix = index.create_in(\"indexdir\", schema)"
      ],
      "execution_count": 18,
      "outputs": []
    },
    {
      "cell_type": "markdown",
      "metadata": {
        "id": "XkW8uqBPEdp-"
      },
      "source": [
        "The above code creates a new index called ix. The schema for the index is title, content and path."
      ]
    },
    {
      "cell_type": "code",
      "metadata": {
        "id": "2r_c0HLj8O5Z"
      },
      "source": [
        "writer = ix.writer() \n",
        "writer.add_document(title=u\"Document 1\", content=u\"Hi, I am Devshekhar Pattnaik.\", path=u\"/a\") \n",
        "writer.add_document(title=u\"Document 2\", content=u\"I am a student of Vellore Institute of Technology, Chennai.\", path=u\"/b\") \n",
        "writer.add_document(title=u\"Document 3\", content=u\"I am pursuing B.Tech in CSE and I live in Chennai.\", path=u\"/c\") \n",
        "writer.commit()"
      ],
      "execution_count": 19,
      "outputs": []
    },
    {
      "cell_type": "markdown",
      "metadata": {
        "id": "Xm9vsqfrFAlE"
      },
      "source": [
        "The above code creates the index writer object to add documents to the index. The add_document() function adds documents to the index. The commit() function closes the index."
      ]
    },
    {
      "cell_type": "code",
      "metadata": {
        "colab": {
          "base_uri": "https://localhost:8080/",
          "height": 0
        },
        "id": "_M0ad1648h5f",
        "outputId": "fff03167-eeb1-48f0-f3f2-40f83d608024"
      },
      "source": [
        "searcher = ix.searcher() \n",
        "list(searcher.lexicon(\"content\"))"
      ],
      "execution_count": 20,
      "outputs": [
        {
          "output_type": "execute_result",
          "data": {
            "text/plain": [
              "[b'am',\n",
              " b'b.tech',\n",
              " b'chennai',\n",
              " b'cse',\n",
              " b'devshekhar',\n",
              " b'hi',\n",
              " b'institute',\n",
              " b'live',\n",
              " b'pattnaik',\n",
              " b'pursuing',\n",
              " b'student',\n",
              " b'technology',\n",
              " b'vellore']"
            ]
          },
          "metadata": {},
          "execution_count": 20
        }
      ]
    },
    {
      "cell_type": "markdown",
      "metadata": {
        "id": "zoXbJDC_FH61"
      },
      "source": [
        "The above code makes a searcher object and we list out all the terms in the index. The output for the code snippet is"
      ]
    },
    {
      "cell_type": "code",
      "metadata": {
        "colab": {
          "base_uri": "https://localhost:8080/",
          "height": 0
        },
        "id": "_EOi74h98kII",
        "outputId": "0335820f-5fa5-4a72-bfec-201e90b47c06"
      },
      "source": [
        "from whoosh.qparser import QueryParser \n",
        "qp = QueryParser(\"content\", schema=ix.schema) \n",
        "q = qp.parse(u\"Chennai\") \n",
        "results = searcher.search(q) \n",
        "for i in results: \n",
        "  print(i)"
      ],
      "execution_count": 21,
      "outputs": [
        {
          "output_type": "stream",
          "name": "stdout",
          "text": [
            "<Hit {'content': 'I am a student of Vellore Institute of Technology, Chennai.', 'path': '/b', 'title': 'Document 2'}>\n",
            "<Hit {'content': 'I am pursuing B.Tech in CSE and I live in Chennai.', 'path': '/c', 'title': 'Document 3'}>\n"
          ]
        }
      ]
    },
    {
      "cell_type": "markdown",
      "metadata": {
        "id": "JDfTc23nFT0F"
      },
      "source": [
        "The above code creates QueryParser object to parse a substring in the index. It searched for the word “Chennai”, which is present in 2 documents(Document 2 and Document 3). The search() function returns a list of results. I looped through the list and print each term of the list."
      ]
    }
  ]
}