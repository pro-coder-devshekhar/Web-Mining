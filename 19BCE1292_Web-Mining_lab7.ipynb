{
 "cells": [
  {
   "cell_type": "markdown",
   "id": "3b5f7b48",
   "metadata": {},
   "source": [
    "### Name- Devshekhar Pattnaik\n",
    "\n",
    "### Reg No-19BCE1292\n",
    "\n",
    "### Slot-L19-20\n",
    "\n",
    "\n",
    "# <center> Web Mining Lab-7 </center>\n",
    "\n",
    "<br>"
   ]
  },
  {
   "cell_type": "markdown",
   "id": "8b3dd966",
   "metadata": {},
   "source": [
    "<b>Q1. You are given 9 one-line documents here. Consider the following keywords to represent the documents in the vector space model: \n",
    "[1]  Automotive  [2]  Car  [3] motorcycles [4] self-drive [5] IoT  [6] hire   [7] Dhoni\n",
    "Represent the documents in vector space Model using these keywords and use it as input to cluster the documents using Manhattan distance as parameter. Ignore case differences.\n",
    "You need to do hierarchical clustering with single-link, complete-link, average-link agglomerative clustering.</b>"
   ]
  },
  {
   "cell_type": "markdown",
   "id": "ad6a4e3a",
   "metadata": {},
   "source": [
    "<u>Algorithm</u>\n",
    "\n",
    "1. Calculate the similarity of one cluster with all the other clusters (calculate proximity matrix)\n",
    "2. Consider every data point as a individual cluster\n",
    "3. Merge the clusters which are highly similar or close to each other.\n",
    "4. Recalculate the proximity matrix for each cluster\n",
    "5. Repeat Step 3 and 4 until only a single cluster remains."
   ]
  },
  {
   "cell_type": "markdown",
   "id": "bec5b44e",
   "metadata": {},
   "source": [
    "<u>Data structures Used</u>\n",
    "\n",
    "1. List\n",
    "2. Array"
   ]
  },
  {
   "cell_type": "code",
   "execution_count": 1,
   "id": "af4fc7d4",
   "metadata": {},
   "outputs": [],
   "source": [
    "# importing all required libraries\n",
    "import numpy as np\n",
    "import matplotlib.pyplot as plt\n",
    "import pandas as pd\n",
    "import string\n",
    "%matplotlib inline"
   ]
  },
  {
   "cell_type": "code",
   "execution_count": 2,
   "id": "ec888ef2",
   "metadata": {},
   "outputs": [],
   "source": [
    "# storing the keywords in a list\n",
    "q=[\"automotive\",\"car\",\"motorcycles\",\"self-drive\",\"iot\",\"hire\",\"dhoni\"]"
   ]
  },
  {
   "cell_type": "code",
   "execution_count": 4,
   "id": "98b902f9",
   "metadata": {},
   "outputs": [
    {
     "data": {
      "text/plain": [
       "[[1, 0, 0, 0, 0, 0, 0],\n",
       " [1, 0, 0, 0, 0, 0, 0],\n",
       " [0, 0, 1, 0, 0, 0, 0],\n",
       " [0, 1, 0, 1, 1, 0, 0],\n",
       " [1, 0, 0, 0, 0, 1, 0],\n",
       " [0, 1, 0, 0, 0, 0, 1],\n",
       " [0, 0, 0, 0, 0, 0, 1],\n",
       " [0, 0, 0, 0, 1, 0, 0],\n",
       " [0, 0, 0, 0, 0, 0, 1]]"
      ]
     },
     "execution_count": 4,
     "metadata": {},
     "output_type": "execute_result"
    }
   ],
   "source": [
    "# reading each document and computing the matrix\n",
    "w=[]\n",
    "for i in range(1, 10):\n",
    "    freq=[]\n",
    "    for y in q:\n",
    "        c=0\n",
    "        f = open('doc' + str(i) + '.txt', 'r')\n",
    "        for x in f:\n",
    "            for word in x.split():\n",
    "                word.strip(string.punctuation)\n",
    "                if word.lower()==y:\n",
    "                    c=c+1\n",
    "        freq.append(c)\n",
    "    w.append(freq)\n",
    "w"
   ]
  },
  {
   "cell_type": "code",
   "execution_count": 5,
   "id": "f4faaf97",
   "metadata": {},
   "outputs": [
    {
     "data": {
      "text/plain": [
       "array([8, 5, 4, 7, 6, 3, 1, 2, 0], dtype=int64)"
      ]
     },
     "execution_count": 5,
     "metadata": {},
     "output_type": "execute_result"
    }
   ],
   "source": [
    "# performing the clustering\n",
    "from sklearn.cluster import AgglomerativeClustering\n",
    "docs=['doc1','doc2','doc3','doc4','doc5','doc6','doc7','doc8','doc9']\n",
    "cluster = AgglomerativeClustering(n_clusters=9,affinity='manhattan', linkage='single')\n",
    "cluster.fit_predict(w)"
   ]
  },
  {
   "cell_type": "code",
   "execution_count": 6,
   "id": "1021792f",
   "metadata": {},
   "outputs": [
    {
     "data": {
      "image/png": "[encoded data removed]",
      "text/plain": [
       "<Figure size 720x504 with 1 Axes>"
      ]
     },
     "metadata": {
      "needs_background": "light"
     },
     "output_type": "display_data"
    }
   ],
   "source": [
    "import scipy.cluster.hierarchy as shc\n",
    "\n",
    "plt.figure(figsize=(10, 7))\n",
    "plt.title(\"Documents\")\n",
    "dend = shc.dendrogram(shc.linkage(w, method='single'),labels=docs)"
   ]
  },
  {
   "cell_type": "code",
   "execution_count": 7,
   "id": "79f57c14",
   "metadata": {},
   "outputs": [
    {
     "data": {
      "text/plain": [
       "array([8, 7, 4, 5, 6, 2, 3, 1, 0], dtype=int64)"
      ]
     },
     "execution_count": 7,
     "metadata": {},
     "output_type": "execute_result"
    }
   ],
   "source": [
    "cluster = AgglomerativeClustering(n_clusters=9, affinity='manhattan', linkage='complete')\n",
    "cluster.fit_predict(w)"
   ]
  },
  {
   "cell_type": "code",
   "execution_count": 8,
   "id": "74e4bcd7",
   "metadata": {},
   "outputs": [
    {
     "data": {
      "image/png": "[encoded data removed]",
      "text/plain": [
       "<Figure size 720x504 with 1 Axes>"
      ]
     },
     "metadata": {
      "needs_background": "light"
     },
     "output_type": "display_data"
    }
   ],
   "source": [
    "plt.figure(figsize=(10, 7))\n",
    "plt.title(\"Documents\")\n",
    "dend = shc.dendrogram(shc.linkage(w, method='complete'),labels=docs)"
   ]
  },
  {
   "cell_type": "code",
   "execution_count": 9,
   "id": "d3d9e835",
   "metadata": {},
   "outputs": [
    {
     "data": {
      "text/plain": [
       "array([8, 7, 4, 3, 6, 5, 1, 2, 0], dtype=int64)"
      ]
     },
     "execution_count": 9,
     "metadata": {},
     "output_type": "execute_result"
    }
   ],
   "source": [
    "cluster = AgglomerativeClustering(n_clusters=9, affinity='manhattan', linkage='average')\n",
    "cluster.fit_predict(w)"
   ]
  },
  {
   "cell_type": "code",
   "execution_count": 10,
   "id": "3b65e0f7",
   "metadata": {},
   "outputs": [
    {
     "data": {
      "image/png": "[encoded data removed]",
      "text/plain": [
       "<Figure size 720x504 with 1 Axes>"
      ]
     },
     "metadata": {
      "needs_background": "light"
     },
     "output_type": "display_data"
    }
   ],
   "source": [
    "# producing the final Dendrogram\n",
    "plt.figure(figsize=(10, 7))\n",
    "plt.title(\"Documents\")\n",
    "dend = shc.dendrogram(shc.linkage(w, method='average'),labels=docs)"
   ]
  },
  {
   "cell_type": "markdown",
   "id": "2a2e4ef1",
   "metadata": {},
   "source": [
    "<b>Q2. Use the same program which you have developed for part A to do “hierarchical clustering” of the following web documents.  Use the keywords.\n",
    "[1] Tesla [2] Electric [3] Car/Vehicle/Automobile [4] pollution [5] de-monetisation [6] GST [7] black money \n",
    "Download the webpage into a .txt file [ignore images, tables and limit the size of the document to 500 words Max] and build your vector space model using Term frequency.\n",
    "Ignore case differences.  Treat singular and plural of nouns as same.  Treat Car/vehicle/automobile as one word [synonyms]. Treat “black money” as a single word.\n",
    "</b>"
   ]
  },
  {
   "cell_type": "code",
   "execution_count": 11,
   "id": "eb891d6d",
   "metadata": {},
   "outputs": [],
   "source": [
    "# importing all required libraries\n",
    "import string\n",
    "import pandas as pd\n",
    "import math\n",
    "import matplotlib.pyplot as plt\n",
    "import requests\n",
    "import re\n",
    "from bs4 import BeautifulSoup\n",
    "from bs4.element import Comment\n",
    "from nltk.stem import PorterStemmer\n",
    "from urllib.request import urlopen\n",
    "import codecs"
   ]
  },
  {
   "cell_type": "code",
   "execution_count": 12,
   "id": "a3d08bd4",
   "metadata": {},
   "outputs": [],
   "source": [
    "# storing the urls in a list\n",
    "urls = ['https://www.zigwheels.com/newcars/Tesla',\n",
    "        'https://www.financialexpress.com/auto/car-news/mahindra-to-launch-indias-first-electric-suv-in-2019-all-new-e-verito-sedan-on-cards/1266853/',\n",
    "        'https://en.wikipedia.org/wiki/Toyota_Prius',\n",
    "        'https://economictimes.indiatimes.com/industry/auto/auto-news/government-plans-new-policy-to-promote-electric-vehicles/articleshow/65237123.cms',\n",
    "        'https://indianexpress.com/article/india/india-news-india/demonetisation-hits-electric-vehicles-industry-society-of-manufacturers-of-electric-vehicles-4395104/',\n",
    "        'https://www.livemint.com/Politics/ySbMKTIC4MINsz1btccBJO/How-demonetisation-affected-the-Indian-economy-in-10-charts.html',\n",
    "        'https://inc42.com/buzz/electric-vehicles-this-week-centre-reduces-gst-on-lithium-ion-batteries-hyundai-to-launch-electric-suv-in-india-and-more/',\n",
    "        'https://www.youthkiawaaz.com/2017/12/impact-of-demonetisation-on-the-indian-economy/',\n",
    "        'https://indianexpress.com/article/india/demonetisation-effects-cash-crisis-mobile-wallets-internet-banking-4406005/',\n",
    "        'https://www.news18.com/news/business/how-gst-will-curb-tax-evasion-1446035.html',\n",
    "        'https://economictimes.indiatimes.com/small-biz/policy-trends/is-gst-helping-the-indian-economy-for-the-better/articleshow/65319874.cms']"
   ]
  },
  {
   "cell_type": "code",
   "execution_count": 13,
   "id": "28c17af9",
   "metadata": {},
   "outputs": [],
   "source": [
    "# downloading and converting webpages into text files\n",
    "import requests\n",
    "from bs4 import BeautifulSoup\n",
    "\n",
    "def getText(url):\n",
    "    res = requests.get(url)\n",
    "    html_page = res.content\n",
    "    soup = BeautifulSoup(html_page, 'html.parser')\n",
    "    text = soup.find_all(text=True)\n",
    "    output = ''\n",
    "    blacklist = [\n",
    "    '[document]',\n",
    "    'noscript',\n",
    "    'header',\n",
    "    'html',\n",
    "    'meta',\n",
    "    'head', \n",
    "    'input',\n",
    "    'script',\n",
    "    'style',\n",
    "    'a'\n",
    "    ]\n",
    "    for t in text:\n",
    "        if t.parent.name not in blacklist:\n",
    "            if not isinstance(t, Comment):\n",
    "                if not re.match(r\"[\\s\\r\\n]+\",str(t)): \n",
    "                    if not re.match(r\"www.\", str(t)):\n",
    "                        output += '{} '.format(t)\n",
    "    return output"
   ]
  },
  {
   "cell_type": "code",
   "execution_count": 14,
   "id": "1fd2c9de",
   "metadata": {},
   "outputs": [],
   "source": [
    "i=1\n",
    "for x in urls:\n",
    "    file=codecs.open('doc'+str(i)+'.txt','w','utf-8')\n",
    "    file.writelines(getText(x))\n",
    "    file.close()\n",
    "    i=i+1"
   ]
  },
  {
   "cell_type": "code",
   "execution_count": 15,
   "id": "4bed13db",
   "metadata": {},
   "outputs": [],
   "source": [
    "# storing the keywords in a list\n",
    "q=[\"Tesla\",\"Electric\",\"Car\",\"pollution\",\"demonetisation\",\"GST\",\"black money\"]"
   ]
  },
  {
   "cell_type": "code",
   "execution_count": 16,
   "id": "5211455c",
   "metadata": {},
   "outputs": [
    {
     "data": {
      "text/plain": [
       "[[33, 3, 17, 0, 0, 0, 0],\n",
       " [0, 0, 0, 0, 0, 0, 0],\n",
       " [0, 8, 56, 0, 0, 0, 0],\n",
       " [0, 13, 0, 0, 0, 0, 0],\n",
       " [0, 12, 0, 0, 5, 0, 0],\n",
       " [0, 0, 1, 0, 4, 0, 0],\n",
       " [0, 23, 1, 1, 0, 7, 0],\n",
       " [0, 0, 0, 0, 16, 0, 0],\n",
       " [0, 0, 0, 0, 3, 0, 0],\n",
       " [0, 0, 0, 0, 0, 10, 0],\n",
       " [0, 0, 0, 0, 0, 15, 0]]"
      ]
     },
     "execution_count": 16,
     "metadata": {},
     "output_type": "execute_result"
    }
   ],
   "source": [
    "# reading each document and computing the matrix\n",
    "w=[]\n",
    "for i in range(1, 12):\n",
    "    freq=[]\n",
    "    for y in q:\n",
    "        c=0\n",
    "        f = open('doc' + str(i) + '.txt', 'r',encoding='utf-8')\n",
    "        for x in f:\n",
    "            x.lower().replace('vehicle', 'car').replace('automobile', 'car').split()\n",
    "            for word in x.split():\n",
    "                w1=word.strip(string.punctuation)\n",
    "                if w1.lower()==y.lower():\n",
    "                    c=c+1\n",
    "        freq.append(c)\n",
    "    w.append(freq)\n",
    "w"
   ]
  },
  {
   "cell_type": "code",
   "execution_count": 17,
   "id": "3c95dbf6",
   "metadata": {},
   "outputs": [
    {
     "data": {
      "text/plain": [
       "array([ 5,  9,  7,  8,  6,  2, 10,  3,  4,  1,  0], dtype=int64)"
      ]
     },
     "execution_count": 17,
     "metadata": {},
     "output_type": "execute_result"
    }
   ],
   "source": [
    "# performing the clustering\n",
    "from sklearn.cluster import AgglomerativeClustering\n",
    "docs=['doc1','doc2','doc3','doc4','doc5','doc6','doc7','doc8','doc9','doc10','doc11']\n",
    "cluster = AgglomerativeClustering(n_clusters=11,affinity='manhattan', linkage='single')\n",
    "cluster.fit_predict(w)"
   ]
  },
  {
   "cell_type": "code",
   "execution_count": 18,
   "id": "f84ae943",
   "metadata": {},
   "outputs": [
    {
     "data": {
      "image/png": "[encoded data removed]",
      "text/plain": [
       "<Figure size 720x504 with 1 Axes>"
      ]
     },
     "metadata": {
      "needs_background": "light"
     },
     "output_type": "display_data"
    }
   ],
   "source": [
    "import scipy.cluster.hierarchy as shc\n",
    "\n",
    "plt.figure(figsize=(10, 7))\n",
    "plt.title(\"Documents\")\n",
    "dend = shc.dendrogram(shc.linkage(w, method='single'),labels=docs)"
   ]
  },
  {
   "cell_type": "code",
   "execution_count": 19,
   "id": "9cc71e0a",
   "metadata": {},
   "outputs": [
    {
     "data": {
      "text/plain": [
       "array([ 5,  9,  7,  8, 10,  4,  6,  2,  3,  1,  0], dtype=int64)"
      ]
     },
     "execution_count": 19,
     "metadata": {},
     "output_type": "execute_result"
    }
   ],
   "source": [
    "cluster = AgglomerativeClustering(n_clusters=11, affinity='manhattan', linkage='complete')\n",
    "cluster.fit_predict(w)"
   ]
  },
  {
   "cell_type": "code",
   "execution_count": 20,
   "id": "33cce211",
   "metadata": {},
   "outputs": [
    {
     "data": {
      "image/png": "[encoded data removed]",
      "text/plain": [
       "<Figure size 720x504 with 1 Axes>"
      ]
     },
     "metadata": {
      "needs_background": "light"
     },
     "output_type": "display_data"
    }
   ],
   "source": [
    "plt.figure(figsize=(10, 7))\n",
    "plt.title(\"Documents\")\n",
    "dend = shc.dendrogram(shc.linkage(w, method='complete'),labels=docs)"
   ]
  },
  {
   "cell_type": "code",
   "execution_count": 21,
   "id": "b460d016",
   "metadata": {},
   "outputs": [
    {
     "data": {
      "text/plain": [
       "array([ 5,  9,  7,  8, 10,  4,  3,  6,  2,  1,  0], dtype=int64)"
      ]
     },
     "execution_count": 21,
     "metadata": {},
     "output_type": "execute_result"
    }
   ],
   "source": [
    "cluster = AgglomerativeClustering(n_clusters=11, affinity='manhattan', linkage='average')\n",
    "cluster.fit_predict(w)"
   ]
  },
  {
   "cell_type": "code",
   "execution_count": 22,
   "id": "178dba4d",
   "metadata": {},
   "outputs": [
    {
     "data": {
      "image/png": "[encoded data removed]",
      "text/plain": [
       "<Figure size 720x504 with 1 Axes>"
      ]
     },
     "metadata": {
      "needs_background": "light"
     },
     "output_type": "display_data"
    }
   ],
   "source": [
    "# producing the final Dendrogram\n",
    "plt.figure(figsize=(10, 7))\n",
    "plt.title(\"Documents\")\n",
    "dend = shc.dendrogram(shc.linkage(w, method='average'),labels=docs)"
   ]
  }
 ],
 "metadata": {
  "kernelspec": {
   "display_name": "Python 3",
   "language": "python",
   "name": "python3"
  },
  "language_info": {
   "codemirror_mode": {
    "name": "ipython",
    "version": 3
   },
   "file_extension": ".py",
   "mimetype": "text/x-python",
   "name": "python",
   "nbconvert_exporter": "python",
   "pygments_lexer": "ipython3",
   "version": "3.8.8"
  }
 },
 "nbformat": 4,
 "nbformat_minor": 5
}
