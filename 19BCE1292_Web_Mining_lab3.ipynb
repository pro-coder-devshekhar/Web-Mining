{
  "nbformat": 4,
  "nbformat_minor": 0,
  "metadata": {
    "colab": {
      "name": "19BCE1292_Web-Mining-lab3.ipynb",
      "provenance": [],
      "collapsed_sections": [],
      "authorship_tag": "ABX9TyOSqi2aj5YRatRYpJlMg1Zb",
      "include_colab_link": true
    },
    "kernelspec": {
      "name": "python3",
      "display_name": "Python 3"
    },
    "language_info": {
      "name": "python"
    }
  },
  "cells": [
    {
      "cell_type": "markdown",
      "metadata": {
        "id": "view-in-github",
        "colab_type": "text"
      },
      "source": [
        "<a href=\"https://colab.research.google.com/github/pro-coder-devshekhar/Web-Mining/blob/main/19BCE1292_Web_Mining_lab3.ipynb\" target=\"_parent\"><img src=\"https://colab.research.google.com/assets/colab-badge.svg\" alt=\"Open In Colab\"/></a>"
      ]
    },
    {
      "cell_type": "markdown",
      "metadata": {
        "id": "6qHqhBIibd8R"
      },
      "source": [
        "### **Name- Devshekhar Pattnaik**\n",
        "\n",
        "### **Reg No-19BCE1292**\n",
        "\n",
        "### **Slot-L19-20**\n",
        "\n",
        "\n",
        "# <center> **Web Mining Lab-3**</center>\n",
        "\n"
      ]
    },
    {
      "cell_type": "markdown",
      "metadata": {
        "id": "fZxH60wbb2GA"
      },
      "source": [
        "**1. Given a root URL, e.g., \"https://en.wikipedia.org/wiki/Web_mining\", Design a simple crawler to return all pages that contains a string “crawler\" from this site.**"
      ]
    },
    {
      "cell_type": "markdown",
      "metadata": {
        "id": "4l2clF1MdNXA"
      },
      "source": [
        "<u>Algorithm</u>\n",
        "\n",
        "\n",
        "1.   Use requests library to retrive the webpage of the root URL\n",
        "2.   Use the BeautifulSoup library to parse the retrived webpage\n",
        "3.   Retrive all the links to the sub pages by retriving all the `<a>` tags\n",
        "4.   Check if word crawler is present in each page and if so then save its URL"
      ]
    },
    {
      "cell_type": "markdown",
      "metadata": {
        "id": "4NRdNrUGejHZ"
      },
      "source": [
        "<u>Data structures used</u>\n",
        "\n",
        "1.   List\n",
        "\n"
      ]
    },
    {
      "cell_type": "code",
      "metadata": {
        "id": "6WbDkRpvGq9J"
      },
      "source": [
        "import requests\n",
        "from bs4 import BeautifulSoup\n",
        "import re"
      ],
      "execution_count": null,
      "outputs": []
    },
    {
      "cell_type": "code",
      "metadata": {
        "id": "qJ70P37mHFGk"
      },
      "source": [
        "root_URL = \"https://en.wikipedia.org/wiki/Web_mining\"\n",
        "search_word = \"crawler\""
      ],
      "execution_count": null,
      "outputs": []
    },
    {
      "cell_type": "code",
      "metadata": {
        "colab": {
          "base_uri": "https://localhost:8080/"
        },
        "id": "DsLncJTnINu9",
        "outputId": "4fe2f2d9-8bb3-47b1-9f26-d7c9cf169e5e"
      },
      "source": [
        "# Use requests library to retrive the webpage of the root URL\n",
        "response = requests.get(root_URL)\n",
        "print(\"Status of response :\" , response.status_code)"
      ],
      "execution_count": null,
      "outputs": [
        {
          "output_type": "stream",
          "text": [
            "Status of response : 200\n"
          ],
          "name": "stdout"
        }
      ]
    },
    {
      "cell_type": "code",
      "metadata": {
        "id": "UAjpOAELJDRw"
      },
      "source": [
        "# Use the BeautifulSoup library to parse the retrived webpage\n",
        "root_page = BeautifulSoup(response.content, 'html.parser')"
      ],
      "execution_count": null,
      "outputs": []
    },
    {
      "cell_type": "code",
      "metadata": {
        "id": "AGPMjInmKHHX"
      },
      "source": [
        "# Retrive all the links to the sub pages by retriving all the <a> tags\n",
        "anchor_tags = root_page.find_all('a')\n",
        "result = []\n",
        "\n",
        "# Check if word crawler is present in each page and if so then save its URL\n",
        "for link in root_page.find_all('a'):\n",
        "  if 'href' in link.attrs:\n",
        "    if re.search(search_word, link.attrs['href'],re.IGNORECASE):\n",
        "      result.append(link.attrs['href'])"
      ],
      "execution_count": null,
      "outputs": []
    },
    {
      "cell_type": "code",
      "metadata": {
        "colab": {
          "base_uri": "https://localhost:8080/"
        },
        "id": "LMZB9bwzMfe2",
        "outputId": "ff4c0f82-2741-4c52-b4f5-f8e795a30a41"
      },
      "source": [
        "print(\"The links in the root URL page which contains the word crawler are: \")\n",
        "for url in result:\n",
        "  print(\"\\t\",url)"
      ],
      "execution_count": null,
      "outputs": [
        {
          "output_type": "stream",
          "text": [
            "The links in the root URL page which contains the word crawler are: \n",
            "\t /wiki/WebCrawler\n",
            "\t /wiki/MetaCrawler\n"
          ],
          "name": "stdout"
        }
      ]
    },
    {
      "cell_type": "markdown",
      "metadata": {
        "id": "rz1DRBVmNA2F"
      },
      "source": [
        "**2. Write a web crawler program which takes as input a url, a search word and maximum number of pages to be searched and returns as output all the\n",
        "web pages it searched till it found the search word on a web page or return failure.**"
      ]
    },
    {
      "cell_type": "markdown",
      "metadata": {
        "id": "n6LHMfZufzZp"
      },
      "source": [
        "<u>Algorithm</u>\n",
        "\n",
        "1.   Enter root URL, word to be searched and max number of pages to be searched\n",
        "2.   Use requests library to retrive the webpage of the root URL\n",
        "3.   Use the BeautifulSoup library to parse the retrived webpage\n",
        "4.   Retrive all the links to the sub pages by retriving all the `<a>` tags\n",
        "5.   Initialize count to zero\n",
        "6.   Check if the word to be searched is present in each page till count <= max number of pages to be searched\n",
        "7.   If the word is present then exit the loop otherwise print the URL of the current page and inreament the count value\n",
        "8. If the value of count reaches the max number of pages to be searched then print search failure"
      ]
    },
    {
      "cell_type": "markdown",
      "metadata": {
        "id": "HnB4GcvBjAqa"
      },
      "source": [
        "<u>Data structures used</u>\n",
        "\n",
        "1.   List\n",
        "\n"
      ]
    },
    {
      "cell_type": "markdown",
      "metadata": {
        "id": "95x-2EF1cgh5"
      },
      "source": [
        "<u>Search word found</u>"
      ]
    },
    {
      "cell_type": "code",
      "metadata": {
        "colab": {
          "base_uri": "https://localhost:8080/"
        },
        "id": "rtOcndlFNBZ-",
        "outputId": "defd5e56-4d5e-43f5-f3bc-ff8db9754eca"
      },
      "source": [
        "root_URL = input(\"The URL to be searched: \")\n",
        "search_word_3 = input(\"Word to be searched for: \")\n",
        "pagemax = input(\"No. of pages to be searched: \")"
      ],
      "execution_count": null,
      "outputs": [
        {
          "output_type": "stream",
          "text": [
            "The URL to be searched: https://vit.ac.in\n",
            "Word to be searched for: chennai\n",
            "No. of pages to be searched: 10\n"
          ],
          "name": "stdout"
        }
      ]
    },
    {
      "cell_type": "code",
      "metadata": {
        "colab": {
          "base_uri": "https://localhost:8080/"
        },
        "id": "7J5Ig_3hNlfd",
        "outputId": "2ccc4a91-44f4-4b50-e0d7-88c3c1d7752d"
      },
      "source": [
        "pagemax = int(pagemax)\n",
        "response = requests.get(root_URL)\n",
        "print(\"Status of the response: \", response.status_code)"
      ],
      "execution_count": null,
      "outputs": [
        {
          "output_type": "stream",
          "text": [
            "Status of the response:  200\n"
          ],
          "name": "stdout"
        }
      ]
    },
    {
      "cell_type": "code",
      "metadata": {
        "colab": {
          "base_uri": "https://localhost:8080/"
        },
        "id": "Ph9vapt4OLVC",
        "outputId": "54ac7cfe-9671-4e18-b29a-ae38cb501872"
      },
      "source": [
        "root_page = BeautifulSoup(response.content, 'html.parser')\n",
        "anchor_tags = root_page.find_all('a')\n",
        "count=0\n",
        "print(\"The URLs containg the word \", search_word_3, \"in the first \", pagemax, \"links of \", root_URL, \"are \")\n",
        "for anchor_tag in anchor_tags[:pagemax]:\n",
        "  link = anchor_tag['href']\n",
        "  count+=1\n",
        "  if re.search(search_word_3, link, re.IGNORECASE):\n",
        "    print(link)\n",
        "    break\n",
        "  else:\n",
        "    print(link)\n",
        "\n",
        "if count == pagemax:\n",
        "  print(\"Search Failure\")"
      ],
      "execution_count": null,
      "outputs": [
        {
          "output_type": "stream",
          "text": [
            "The URLs containg the word  chennai in the first  10 links of  https://vit.ac.in are \n",
            "#main-content\n",
            "https://admissionresults.vit.ac.in/ugcounselling\n",
            "http://chennai.vit.ac.in/\n"
          ],
          "name": "stdout"
        }
      ]
    },
    {
      "cell_type": "markdown",
      "metadata": {
        "id": "OroJ0qyFP9wv"
      },
      "source": [
        "<u>Search word not found</u>"
      ]
    },
    {
      "cell_type": "code",
      "metadata": {
        "colab": {
          "base_uri": "https://localhost:8080/"
        },
        "id": "-lcTYBmHP1lH",
        "outputId": "d4b302cb-2cb3-430d-fd14-bd46ccb08fa9"
      },
      "source": [
        "root_URL = input(\"The URL to be searched: \")\n",
        "search_word_3 = input(\"Word to be searched for: \")\n",
        "pagemax = input(\"No. of pages to be searched: \")"
      ],
      "execution_count": null,
      "outputs": [
        {
          "output_type": "stream",
          "text": [
            "The URL to be searched: https://vit.ac.in\n",
            "Word to be searched for: vellore\n",
            "No. of pages to be searched: 10\n"
          ],
          "name": "stdout"
        }
      ]
    },
    {
      "cell_type": "code",
      "metadata": {
        "colab": {
          "base_uri": "https://localhost:8080/"
        },
        "id": "YWVJRcxmQMN0",
        "outputId": "4d7e6135-f3cc-4cd4-de56-8a21e1b187ef"
      },
      "source": [
        "pagemax = int(pagemax)\n",
        "response = requests.get(root_URL)\n",
        "print(\"Status of the response: \", response.status_code)"
      ],
      "execution_count": null,
      "outputs": [
        {
          "output_type": "stream",
          "text": [
            "Status of the response:  200\n"
          ],
          "name": "stdout"
        }
      ]
    },
    {
      "cell_type": "code",
      "metadata": {
        "colab": {
          "base_uri": "https://localhost:8080/"
        },
        "id": "f1MW4RqtQXxC",
        "outputId": "bf765892-61cb-45de-8589-eee3bc628a8b"
      },
      "source": [
        "root_page = BeautifulSoup(response.content, 'html.parser')\n",
        "anchor_tags = root_page.find_all('a')\n",
        "count=0\n",
        "print(\"The URLs containg the word \", search_word_3, \"in the first \", pagemax, \"links of \", root_URL, \"are \")\n",
        "for anchor_tag in anchor_tags[:pagemax]:\n",
        "  link = anchor_tag['href']\n",
        "  count+=1\n",
        "  if re.search(search_word_3, link, re.IGNORECASE):\n",
        "    print(link)\n",
        "    break\n",
        "  else:\n",
        "    print(link)\n",
        "\n",
        "if count == pagemax:\n",
        "  print(\"Search Failure\")"
      ],
      "execution_count": null,
      "outputs": [
        {
          "output_type": "stream",
          "text": [
            "The URLs containg the word  vellore in the first  10 links of  https://vit.ac.in are \n",
            "#main-content\n",
            "https://admissionresults.vit.ac.in/ugcounselling\n",
            "http://chennai.vit.ac.in/\n",
            "https://vitap.ac.in/\n",
            "https://vitbhopal.ac.in/\n",
            "/\n",
            "#\n",
            "#\n",
            "#\n",
            "https://vit.ac.in\n",
            "Search Failure\n"
          ],
          "name": "stdout"
        }
      ]
    },
    {
      "cell_type": "markdown",
      "metadata": {
        "id": "RkGsfWKKQd3v"
      },
      "source": [
        "**3. Implement breadth-first-search and depth-first-search crawlers for Ex. 2.**"
      ]
    },
    {
      "cell_type": "markdown",
      "metadata": {
        "id": "UA7rLoNhjTm6"
      },
      "source": [
        "<u>Data structures used</u>\n",
        "\n",
        "1.   List\n",
        "2.   Queue\n",
        "3.   Stack"
      ]
    },
    {
      "cell_type": "code",
      "metadata": {
        "id": "xtws-r0cQce0"
      },
      "source": [
        "from urllib.request import urljoin\n",
        "from urllib.request import urlparse"
      ],
      "execution_count": null,
      "outputs": []
    },
    {
      "cell_type": "code",
      "metadata": {
        "id": "cTud7he-QyYk"
      },
      "source": [
        "internal_links = set()\n",
        "root_URL = \"https://vit.ac.in\"\n",
        "depth = 1\n",
        "external_links = set()\n",
        "links_extern = set()"
      ],
      "execution_count": null,
      "outputs": []
    },
    {
      "cell_type": "markdown",
      "metadata": {
        "id": "zmlFynpBRHmA"
      },
      "source": [
        "Breadth First Search"
      ]
    },
    {
      "cell_type": "markdown",
      "metadata": {
        "id": "Gd8KiZNvmX2S"
      },
      "source": [
        "<u>Algorithm</u>\n",
        "\n",
        "1. First move horizontally and visit all the nodes of the current layer\n",
        "2. Move to the next layer"
      ]
    },
    {
      "cell_type": "code",
      "metadata": {
        "colab": {
          "base_uri": "https://localhost:8080/"
        },
        "id": "ARY8SeitRGzv",
        "outputId": "638d7e5a-2131-4041-b3cc-ec6c815efcee"
      },
      "source": [
        "def level_crawler(root_URL):\n",
        "  temp_urls = set()\n",
        "  current_url_domain = urlparse(root_URL).netloc\n",
        "\n",
        "  root_page = BeautifulSoup(requests.get(root_URL).content, \"lxml\")\n",
        "\n",
        "  for anchor in root_page.findAll(\"a\"):\n",
        "    href = anchor.attrs.get(\"href\")\n",
        "    if(href != \"\" or href != None):\n",
        "      href = urljoin(root_URL, href)\n",
        "      href_parsed = urlparse(href)\n",
        "      href = href_parsed.scheme\n",
        "      href += \"://\"\n",
        "      href += href_parsed.netloc\n",
        "      href += href_parsed.path\n",
        "      final_parsed_href = urlparse(href)\n",
        "      is_valid = bool(final_parsed_href.scheme) and bool(final_parsed_href.netloc)\n",
        "      if is_valid:\n",
        "        if current_url_domain not in href and href not in external_links:\n",
        "          print(\"External links - {}\".format(href))\n",
        "          external_links.add(href)\n",
        "        if current_url_domain in href and href not in internal_links:\n",
        "          print(\"Internal links - {}\".format(href))\n",
        "          internal_links.add(href)\n",
        "          temp_urls.add(href)\n",
        "  return temp_urls\n",
        "\n",
        "if(depth == 0):\n",
        "  print(\"Intern - {}\".format(root_URL))\n",
        "\n",
        "elif(depth == 1):\n",
        "  level_crawler(root_URL)\n",
        "\n",
        "else:\n",
        "  queue = []\n",
        "  queue.append(root_URL)\n",
        "  for j in range(depth):\n",
        "    for count in range(len(queue)):\n",
        "      url = queue.pop(0)\n",
        "      urls = level_crawler(url)\n",
        "      for i in urls:\n",
        "        queue.append(i)"
      ],
      "execution_count": null,
      "outputs": [
        {
          "output_type": "stream",
          "text": [
            "Internal links - https://vit.ac.in\n",
            "Internal links - https://admissionresults.vit.ac.in/ugcounselling\n",
            "Internal links - http://chennai.vit.ac.in/\n",
            "External links - https://vitap.ac.in/\n",
            "External links - https://vitbhopal.ac.in/\n",
            "Internal links - https://vit.ac.in/\n",
            "Internal links - https://vit.ac.in/about-vit\n",
            "Internal links - https://vit.ac.in/about/vision-mission\n",
            "Internal links - https://vit.ac.in/vit-milestones\n",
            "Internal links - https://vit.ac.in/about/leadership\n",
            "Internal links - https://vit.ac.in/governance\n",
            "Internal links - https://vit.ac.in/about/administrative-offices\n",
            "Internal links - https://vit.ac.in/about/infrastructure\n",
            "Internal links - https://vit.ac.in/about/ranking-and-accreditation\n",
            "Internal links - https://vit.ac.in/about/sustainability\n",
            "Internal links - https://vit.ac.in/true-green\n",
            "Internal links - https://vit.ac.in/about/community-outreach\n",
            "Internal links - https://vit.ac.in/about/communityradio\n",
            "Internal links - https://vit.ac.in/all-news-archieved\n",
            "Internal links - https://vit.ac.in/all-events\n",
            "Internal links - https://vit.ac.in/national-institutional-ranking-framework-nirf\n",
            "Internal links - https://vit.ac.in/mhrdugc\n",
            "Internal links - http://careers.vit.ac.in/\n",
            "Internal links - https://vit.ac.in/about/news-letter\n",
            "Internal links - https://vit.ac.in/academics/home\n",
            "Internal links - https://vit.ac.in/sites/default/files/academic/Academic-Regulations.pdf\n",
            "Internal links - https://vit.ac.in/programmes-offered-1\n",
            "Internal links - https://vit.ac.in/programmes-offered-2021-22\n",
            "Internal links - https://vit.ac.in/programmes-offered-2020-21\n",
            "Internal links - https://vit.ac.in/schools\n",
            "Internal links - https://vit.ac.in/academics/ffcs\n",
            "Internal links - https://vit.ac.in/academics/library\n",
            "Internal links - https://vit.ac.in/academics-feedback\n",
            "Internal links - https://vit.ac.in/admissions/overview\n",
            "Internal links - https://vit.ac.in/admissions/programmes-offered\n",
            "Internal links - https://vit.ac.in/all-courses/ug\n",
            "Internal links - https://vit.ac.in/all-courses/pg\n",
            "Internal links - https://vit.ac.in/admissions/research\n",
            "Internal links - https://vit.ac.in/admissions/research/Integrated_Ph.D\n",
            "Internal links - https://vit.ac.in/admissions/research/phd\n",
            "Internal links - https://vit.ac.in/admissions/international\n",
            "Internal links - https://vit.ac.in/stars-support-advancement-rural-students-0\n",
            "Internal links - https://vit.ac.in/placements/overview\n",
            "Internal links - https://vit.ac.in/career-development-centre\n",
            "Internal links - https://vit.ac.in/placements/superdreamoffers\n",
            "Internal links - https://vit.ac.in/placements/dreamoffers\n",
            "Internal links - https://vit.ac.in/placements/internship\n",
            "Internal links - https://vit.ac.in/placements/statistics\n",
            "Internal links - https://vit.ac.in/placements/pat-Office\n",
            "Internal links - https://vit.ac.in/placements/contact-us\n",
            "Internal links - https://vit.ac.in/InternationalRelations\n",
            "Internal links - https://vit.ac.in/internationalrelations/itp\n",
            "Internal links - https://vit.ac.in/internationalrelations/partneruniversities\n",
            "Internal links - https://vit.ac.in/internationalrelations/sap\n",
            "Internal links - https://vit.ac.in/admissions/international/overview\n",
            "Internal links - https://vit.ac.in/academics-more/Contact us\n",
            "Internal links - https://vit.ac.in/research\n",
            "Internal links - https://vit.ac.in/research/academic\n",
            "Internal links - https://vit.ac.in/research/sponsored-research\n",
            "Internal links - https://vit.ac.in/iprcell\n",
            "Internal links - https://vit.ac.in/research/centers-list\n",
            "Internal links - https://vit.ac.in/campuslife/overview\n",
            "Internal links - https://vit.ac.in/campuslife/fests\n",
            "Internal links - https://vit.ac.in/campuslife/studentswelfare\n",
            "Internal links - https://vit.ac.in/campus-category/Clubs\n",
            "Internal links - https://vit.ac.in/campus-category/Chapters\n",
            "Internal links - https://vit.ac.in/campus-category/Campus-Events\n",
            "Internal links - https://vit.ac.in/campus-category/Counselling-Division\n",
            "Internal links - https://vit.ac.in/campus-category/grievancecell\n",
            "Internal links - https://vit.ac.in/campus-category/Student-Council\n",
            "Internal links - https://vit.ac.in/campuslife/sports\n",
            "Internal links - https://vit.ac.in/campuslife/hostels\n",
            "Internal links - https://vit.ac.in/campuslife/healthservices\n",
            "Internal links - https://vit.ac.in/campuslife/otheramenities\n",
            "Internal links - https://vit.ac.in/detailview/green-vit\n",
            "Internal links - https://vit.ac.in/vitol/\n",
            "External links - javascript://void(0)\n",
            "Internal links - https://vit.ac.in/academics/coe\n",
            "Internal links - https://vit.ac.in/transcripts-alumni\n",
            "External links - https://vit.applydirect.org/student\n",
            "External links - https://applications.wes.org/required-documents/Search/Result\n",
            "External links - https://www.wes.org/advisor-blog/send-electronic-academic-records/\n",
            "Internal links - https://vit.ac.in/files/e-SANAD-Notification.pdf\n",
            "Internal links - https://web.vit.ac.in/CertificateVerification/login\n",
            "Internal links - https://vit.ac.in/centers/asc\n",
            "External links - http://www.vittbi.com/\n",
            "Internal links - https://vtop.vit.ac.in/\n",
            "Internal links - https://vit.ac.in/guest-house\n",
            "Internal links - https://vit.ac.in/redressal\n",
            "Internal links - https://vit.ac.in/hotels-in-vellore\n",
            "External links - https://mail.google.com/\n",
            "Internal links - http://intranet.vit.ac.in\n",
            "Internal links - https://vit.ac.in/sites/default/files/SBST_Freshers_App.rar\n",
            "Internal links - https://vit.ac.in/anti-ragging-committee\n",
            "Internal links - https://vit.ac.in/capability-enhancement-scheme\n",
            "Internal links - https://vit.ac.in/sites/default/files/FormatGuidelines.doc\n",
            "Internal links - https://vit.ac.in/internal-complaints-committee\n",
            "Internal links - https://vit.ac.in/alumni_progression\n",
            "Internal links - https://vit.ac.in/academics/transcripts\n",
            "Internal links - https://vit.ac.in/instruction\n",
            "External links - https://www.campusinteraction.com/\n",
            "Internal links - https://vtop.vit.ac.in/vtop/initialProcess\n",
            "Internal links - https://vit.ac.in/alumni-events\n",
            "Internal links - https://vit.ac.in/detailview/alumni-photo-gallery\n",
            "External links - http://www.vitaa.org/\n",
            "Internal links - https://vit.ac.in/alumni-office-contact\n",
            "Internal links - https://campustour.vit.ac.in/\n",
            "Internal links - https://vit.ac.in/vit-rank/\n",
            "Internal links - https://vit.ac.in/ https:/vit.ac.in/vit-only-private-institution-india-shanghai-ranking-2021\n",
            "Internal links - https://vit.ac.in/ https:/vit.ac.in/about/ranking-and-accreditation\n",
            "Internal links - https://vit.ac.in/ https:/vit.ac.in/schools/VitBS\n",
            "Internal links - https://admissions.vit.ac.in/ugresults/\n",
            "Internal links - https://admissions.vit.ac.in/irapplicationug/\n",
            "Internal links - https://viteee.vit.ac.in\n",
            "External links - https://www.facebook.com/VITuniversity/\n",
            "External links - https://twitter.com/vit_univ\n",
            "External links - https://www.linkedin.com/school/vellore-institute-of-technology/\n",
            "External links - https://www.instagram.com/vellore_vit/\n",
            "External links - https://www.youtube.com/c/VITUniversityVellore\n",
            "Internal links - https://vit.ac.in/general/aqua-thon\n",
            "Internal links - https://vit.ac.in/general/becoming-i-foundation-students-welfare-event\n",
            "Internal links - https://vit.ac.in/general/webinar-kickstart-kaggle\n",
            "Internal links - https://vit.ac.in/general/hydro-panel\n",
            "Internal links - https://vit.ac.in/general/basics-ux\n",
            "Internal links - https://vit.ac.in/school-mechanical-engineeringsmec/virtual-international-conference-product-design-development-and\n",
            "Internal links - https://vit.ac.in/school-civil-engineering-sce/2nd-international-conference-recent-trends-construction-materials-and\n",
            "Internal links - https://vit.ac.in/school-computer-science-and-engineering-scope/international-conference-computational-methods-and\n",
            "Internal links - https://vit.ac.in/school-electrical-engineering-select/innovations-power-and-advanced-computing-technologies-i\n",
            "Internal links - https://vit.ac.in/school-mechanical-engineeringsmec/27th-national-conference-internal-combustion-engines-and\n",
            "Internal links - https://vit.ac.in/school-electronics-engineering-sense/international-conference-intelligent-communication-video-image\n",
            "Internal links - https://vit.ac.in/school-advanced-sciences-sas/8th-international-conference-mathematics-and-computing-icmc-2022\n",
            "External links - https://www.youtube.com/watch\n",
            "Internal links - https://vit.ac.in/detailview/75th-independence-day-celebration-inauguration-photo-exhibition\n",
            "Internal links - https://admissionresults.vit.ac.in/viteee/\n",
            "Internal links - https://admissionresults.vit.ac.in/integratedmtech/\n",
            "Internal links - https://admissionresults.vit.ac.in/integratedmsc/\n",
            "Internal links - https://admissions.vit.ac.in/ugresults\n",
            "Internal links - https://admissions.vit.ac.in/pgresults/\n",
            "Internal links - https://admissions.vit.ac.in/irpgapplication/\n",
            "Internal links - https://labpayments.vit.ac.in/CLSMLab/\n",
            "Internal links - https://vit.ac.in/vit-institution-eminence-ioe\n",
            "External links - https://www.vidyalakshmi.co.in/Students/\n",
            "Internal links - http://info.vit.ac.in/CDAC/html/index3.html\n",
            "Internal links - https://vit.ac.in/files/nabl.pdf\n",
            "Internal links - https://vit.ac.in/ranking\n",
            "Internal links - https://vit.ac.in/vit-rank\n",
            "Internal links - https://vit.ac.in/ariia-award\n",
            "Internal links - https://vit.ac.in/qs-ranks-vit-one-among-top-12-institutions-india-engineering-and-technology\n",
            "Internal links - https://vit.ac.in/world-university-rankings-2020\n",
            "Internal links - https://vit.ac.in/academics/InternationalRelations\n",
            "Internal links - https://vit.ac.in/vit-university-sets-record-limca-book-records\n",
            "Internal links - https://vit.ac.in/admission-overview\n",
            "Internal links - https://vit.ac.in/all-news\n",
            "Internal links - https://vit.ac.in/vit-only-private-institution-india-shanghai-ranking-2021\n",
            "Internal links - https://vit.ac.in/photo-exhibition-75th-year-indian-independence\n",
            "Internal links - https://vit.ac.in/vellore-institute-technology-vit-triumphs-tata-steel-materialnext-20-0\n",
            "Internal links - https://vit.ac.in/vit-donates-%E2%82%B9150-cr-cm%E2%80%99s-fund\n",
            "Internal links - https://vit.ac.in/vit-alumnus-recognized-best-performing-ias-officer\n",
            "Internal links - https://vit.ac.in/vit-sae-team-rotorfpv\n",
            "Internal links - https://vit.ac.in/5-teams-vit-qualify-finals-nasscom-–-ibm-all-india-hackathon\n",
            "Internal links - https://vit.ac.in/virtual-track-competitions-communications-award\n",
            "Internal links - https://vit.ac.in/team-roverx-creation-labs-vit-vellore-has-achieved-new-milestone-year-scoring-9036-its-system\n",
            "Internal links - https://vit.ac.in/3d-printing-play-major-role-mitigating-spread-covid-19-say-researchers-vit\n",
            "Internal links - https://vit.ac.in/article-published-hindu-business-line-co-authored-vit-alumnus-and-niti-aayog’s\n",
            "Internal links - https://vit.ac.in/students-robovitics-vit-have-designed-and-manufactured-3d-printed-prototypes-spare-parts-medical\n",
            "Internal links - https://vit.ac.in/galleries\n",
            "Internal links - http://campustour.vit.ac.in/\n",
            "Internal links - https://vit.ac.in/video\n",
            "Internal links - https://vit.ac.in/campus-hostel/hostels\n",
            "Internal links - http://info.vit.ac.in/guesthouse/\n",
            "Internal links - https://vit.ac.in/academics/iqac\n",
            "External links - http://www.mhrdnats.gov.in/\n",
            "Internal links - https://vit.ac.in/sites/default/files/footer_menu_doc/FormatGuidelines%20%283%29.doc\n",
            "Internal links - https://vit.ac.in/files/VIT-innovation-and-startup-policy.pdf\n",
            "Internal links - https://vit.ac.in/sites/default/files/Student-Code-of-Conduct.pdf\n",
            "Internal links - https://peopleorbit.vit.ac.in/\n",
            "Internal links - https://webmail.vit.ac.in/\n",
            "External links - https://accounts.google.com/AddSession\n",
            "Internal links - https://vit.ac.in/files/VIT-redressal-policy-antidiscrimination.pdf\n",
            "Internal links - https://vit.ac.in/institutional-student-grievance-redressal-committee-isgrc\n",
            "External links - http://www.vitaa.org\n",
            "Internal links - https://vit.ac.in/contactus\n"
          ],
          "name": "stdout"
        }
      ]
    },
    {
      "cell_type": "markdown",
      "metadata": {
        "id": "XE_tEHjwZIqK"
      },
      "source": [
        "Depth First Search"
      ]
    },
    {
      "cell_type": "markdown",
      "metadata": {
        "id": "PeRJxvAElfW7"
      },
      "source": [
        "<u>Algorithm</u>\n",
        "1. Create a recursive function that takes the index of the node and a visited array.\n",
        "2.Mark the current node as visited and print the node.\n",
        "3. Traverse all the adjacent and unmarked nodes and call the recursive function with the index of the adjacent node."
      ]
    },
    {
      "cell_type": "code",
      "metadata": {
        "colab": {
          "base_uri": "https://localhost:8080/"
        },
        "id": "YztvWOf7Y4ji",
        "outputId": "750c4c20-4585-4d65-cc38-75f36aaf0338"
      },
      "source": [
        "def get_links_recursive(base, path, visited, max_depth=2, depth=0):\n",
        "  if depth< max_depth:\n",
        "    try:\n",
        "      soup = BeautifulSoup(requests.get(base + path).text, \"html.parser\")\n",
        "      for link in soup.find_all(\"a\"):\n",
        "        href = link.get(\"href\")\n",
        "        if href not in visited:\n",
        "          visited.add(href)\n",
        "          print(f\"Depth: {depth}: {href}\")\n",
        "          if href.startswith(\"http\"):\n",
        "            get_links_recursive(href, \"\" , visited , max_depth , depth+1)\n",
        "          else:\n",
        "            get_links_recursive(base , href , visited , max_depth , depth+1)\n",
        "    except:\n",
        "      pass\n",
        "get_links_recursive(\"https://vit.ac.in\", \"\" , set([\"https://vit.ac.in\"]))"
      ],
      "execution_count": null,
      "outputs": [
        {
          "output_type": "stream",
          "text": [
            "Depth: 0: #main-content\n",
            "Depth: 1: https://admissionresults.vit.ac.in/ugcounselling\n",
            "Depth: 1: http://chennai.vit.ac.in/\n",
            "Depth: 1: https://vitap.ac.in/\n",
            "Depth: 1: https://vitbhopal.ac.in/\n",
            "Depth: 1: /\n",
            "Depth: 1: #\n",
            "Depth: 1: https://vit.ac.in/about-vit\n",
            "Depth: 1: https://vit.ac.in/about/vision-mission\n",
            "Depth: 1: https://vit.ac.in/vit-milestones\n",
            "Depth: 1: https://vit.ac.in/about/leadership\n",
            "Depth: 1: https://vit.ac.in/governance\n",
            "Depth: 1: https://vit.ac.in/about/administrative-offices\n",
            "Depth: 1: https://vit.ac.in/about/infrastructure\n",
            "Depth: 1: https://vit.ac.in/about/ranking-and-accreditation\n",
            "Depth: 1: https://vit.ac.in/about/sustainability\n",
            "Depth: 1: https://vit.ac.in/true-green\n",
            "Depth: 1: https://vit.ac.in/about/community-outreach\n",
            "Depth: 1: https://vit.ac.in/about/communityradio\n",
            "Depth: 1: https://vit.ac.in/all-news-archieved\n",
            "Depth: 1: https://vit.ac.in/all-events\n",
            "Depth: 1: https://vit.ac.in/national-institutional-ranking-framework-nirf\n",
            "Depth: 1: https://vit.ac.in/mhrdugc\n",
            "Depth: 1: http://careers.vit.ac.in/\n",
            "Depth: 1: https://vit.ac.in/about/news-letter\n",
            "Depth: 1: https://vit.ac.in/academics/home\n",
            "Depth: 1: https://vit.ac.in/sites/default/files/academic/Academic-Regulations.pdf\n",
            "Depth: 1: https://vit.ac.in/programmes-offered-1\n",
            "Depth: 1: https://vit.ac.in/programmes-offered-2021-22\n",
            "Depth: 1: https://vit.ac.in/programmes-offered-2020-21\n",
            "Depth: 1: https://vit.ac.in/schools\n",
            "Depth: 1: https://vit.ac.in/academics/ffcs\n",
            "Depth: 1: https://vit.ac.in/academics/library\n",
            "Depth: 1: https://vit.ac.in/academics-feedback\n",
            "Depth: 1: https://vit.ac.in/admissions/overview\n",
            "Depth: 1: https://vit.ac.in/admissions/programmes-offered\n",
            "Depth: 1: https://vit.ac.in/all-courses/ug\n",
            "Depth: 1: https://vit.ac.in/all-courses/pg\n",
            "Depth: 1: https://vit.ac.in/admissions/research\n",
            "Depth: 1: https://vit.ac.in/admissions/research/Integrated_Ph.D\n",
            "Depth: 1: https://vit.ac.in/admissions/research/phd\n",
            "Depth: 1: https://vit.ac.in/admissions/international\n",
            "Depth: 1: https://vit.ac.in/stars-support-advancement-rural-students-0\n",
            "Depth: 1: https://vit.ac.in/placements/overview\n",
            "Depth: 1: https://vit.ac.in/career-development-centre\n",
            "Depth: 1: https://vit.ac.in/placements/superdreamoffers\n",
            "Depth: 1: https://vit.ac.in/placements/dreamoffers\n",
            "Depth: 1: https://vit.ac.in/placements/internship\n",
            "Depth: 1: https://vit.ac.in/placements/statistics\n",
            "Depth: 1: https://vit.ac.in/placements/pat-Office\n",
            "Depth: 1: https://vit.ac.in/placements/contact-us\n",
            "Depth: 1: https://vit.ac.in/InternationalRelations\n",
            "Depth: 1: https://vit.ac.in/internationalrelations/itp\n",
            "Depth: 1: https://vit.ac.in/internationalrelations/partneruniversities\n",
            "Depth: 1: https://vit.ac.in/internationalrelations/sap\n",
            "Depth: 1: https://vit.ac.in/admissions/international/overview\n",
            "Depth: 1: https://vit.ac.in/academics-more/Contact us\n",
            "Depth: 1: https://vit.ac.in/research\n",
            "Depth: 1: https://vit.ac.in/research/academic\n",
            "Depth: 1: https://vit.ac.in/research/sponsored-research\n",
            "Depth: 1: https://vit.ac.in/iprcell\n",
            "Depth: 1: https://vit.ac.in/research/centers-list\n",
            "Depth: 1: https://vit.ac.in/campuslife/overview\n",
            "Depth: 1: https://vit.ac.in/campuslife/fests\n",
            "Depth: 1: https://vit.ac.in/campuslife/studentswelfare\n",
            "Depth: 1: https://vit.ac.in/campus-category/Clubs\n",
            "Depth: 1: https://vit.ac.in/campus-category/Chapters\n",
            "Depth: 1: https://vit.ac.in/campus-category/Campus-Events\n",
            "Depth: 1: https://vit.ac.in/campus-category/Counselling-Division\n",
            "Depth: 1: https://vit.ac.in/campus-category/grievancecell\n",
            "Depth: 1: https://vit.ac.in/campus-category/Student-Council\n",
            "Depth: 1: https://vit.ac.in/campuslife/sports\n",
            "Depth: 1: https://vit.ac.in/campuslife/hostels\n",
            "Depth: 1: https://vit.ac.in/campuslife/healthservices\n",
            "Depth: 1: https://vit.ac.in/campuslife/otheramenities\n",
            "Depth: 1: https://vit.ac.in/detailview/green-vit\n",
            "Depth: 1: https://vit.ac.in/vitol/\n",
            "Depth: 1: javascript:void(0)\n",
            "Depth: 1: https://vit.ac.in/academics/coe\n",
            "Depth: 1: https://vit.ac.in/transcripts-alumni\n",
            "Depth: 1: https://vit.applydirect.org/student\n",
            "Depth: 1: https://applications.wes.org/required-documents/Search/Result?cId=2&eId=38&iNm=Vellore%20Institute%20of%20Technology%20%28VIT%29&cNm=Bachelor%20of%20Applied%20Arts&iSec=University%20Education&iSub=Bachelor%27s%20Degree%20Programs&comp=1&isEca=False\n",
            "Depth: 1: https://www.wes.org/advisor-blog/send-electronic-academic-records/\n",
            "Depth: 1: https://vit.ac.in/files/e-SANAD-Notification.pdf\n",
            "Depth: 1: https://web.vit.ac.in/CertificateVerification/login\n",
            "Depth: 1: https://vit.ac.in/centers/asc\n",
            "Depth: 1: http://www.vittbi.com/#/\n",
            "Depth: 1: https://vtop.vit.ac.in/\n",
            "Depth: 1: https://vit.ac.in/guest-house\n",
            "Depth: 1: https://vit.ac.in/redressal\n",
            "Depth: 1: https://vit.ac.in/hotels-in-vellore\n",
            "Depth: 1: https://mail.google.com/\n",
            "Depth: 1: http://intranet.vit.ac.in\n",
            "Depth: 1: https://vit.ac.in/sites/default/files/SBST_Freshers_App.rar\n",
            "Depth: 1: https://vit.ac.in/anti-ragging-committee\n",
            "Depth: 1: https://vit.ac.in/capability-enhancement-scheme\n",
            "Depth: 1: https://vit.ac.in/sites/default/files/FormatGuidelines.doc\n",
            "Depth: 1: https://vit.ac.in/internal-complaints-committee\n",
            "Depth: 1: https://vit.ac.in/alumni_progression\n",
            "Depth: 1: https://vit.ac.in/academics/transcripts\n",
            "Depth: 1: https://vit.ac.in/instruction\n",
            "Depth: 1: https://www.campusinteraction.com/\n",
            "Depth: 1: https://vtop.vit.ac.in/vtop/initialProcess\n",
            "Depth: 1: https://vit.ac.in/alumni-events\n",
            "Depth: 1: https://vit.ac.in/detailview/alumni-photo-gallery\n",
            "Depth: 1: http://www.vitaa.org/\n",
            "Depth: 1: https://vit.ac.in/alumni-office-contact\n",
            "Depth: 1: https://campustour.vit.ac.in/\n",
            "Depth: 1: https://vit.ac.in/vit-rank/\n",
            "Depth: 1:  https://vit.ac.in/vit-only-private-institution-india-shanghai-ranking-2021\n",
            "Depth: 1:  https://vit.ac.in/about/ranking-and-accreditation\n",
            "Depth: 1:  https://vit.ac.in/schools/VitBS\n",
            "Depth: 1: https://admissions.vit.ac.in/ugresults/\n",
            "Depth: 1: https://admissions.vit.ac.in/irapplicationug/\n",
            "Depth: 1: https://viteee.vit.ac.in\n",
            "Depth: 1: https://www.facebook.com/VITuniversity/\n",
            "Depth: 1: https://twitter.com/vit_univ\n",
            "Depth: 1: https://www.linkedin.com/school/vellore-institute-of-technology/\n",
            "Depth: 1: https://www.instagram.com/vellore_vit/\n",
            "Depth: 1: https://www.youtube.com/c/VITUniversityVellore\n",
            "Depth: 1: https://vit.ac.in/general/aqua-thon\n",
            "Depth: 1: https://vit.ac.in/general/becoming-i-foundation-students-welfare-event\n",
            "Depth: 1: https://vit.ac.in/general/webinar-kickstart-kaggle\n",
            "Depth: 1: https://vit.ac.in/general/hydro-panel\n",
            "Depth: 1: https://vit.ac.in/general/basics-ux\n",
            "Depth: 1: https://vit.ac.in/school-mechanical-engineeringsmec/virtual-international-conference-product-design-development-and\n",
            "Depth: 1: https://vit.ac.in/school-civil-engineering-sce/2nd-international-conference-recent-trends-construction-materials-and\n",
            "Depth: 1: https://vit.ac.in/school-computer-science-and-engineering-scope/international-conference-computational-methods-and\n",
            "Depth: 1: https://vit.ac.in/school-electrical-engineering-select/innovations-power-and-advanced-computing-technologies-i\n",
            "Depth: 1: https://vit.ac.in/school-mechanical-engineeringsmec/27th-national-conference-internal-combustion-engines-and\n",
            "Depth: 1: https://vit.ac.in/school-electronics-engineering-sense/international-conference-intelligent-communication-video-image\n",
            "Depth: 1: https://vit.ac.in/school-advanced-sciences-sas/8th-international-conference-mathematics-and-computing-icmc-2022\n",
            "Depth: 1: https://www.youtube.com/watch?v=JV62_xs4xJU \n",
            "Depth: 1: None\n",
            "Depth: 0: https://vit.ac.in/detailview/75th-independence-day-celebration-inauguration-photo-exhibition\n",
            "Depth: 1: \n",
            "Depth: 1: /galleries\n",
            "Depth: 1: https://vit.ac.in/system/files/WhatsApp%20Image%202021-08-15%20at%2013.18.56%20%282%29.jpeg\n",
            "Depth: 1:  https://vit.ac.in/system/files/WhatsApp%20Image%202021-08-15%20at%2013.18.56.jpeg\n",
            "Depth: 1:  https://vit.ac.in/system/files/WhatsApp%20Image%202021-08-15%20at%2013.18.57%20%281%29.jpeg\n",
            "Depth: 1:  https://vit.ac.in/system/files/WhatsApp%20Image%202021-08-15%20at%2013.18.57%20%282%29.jpeg\n",
            "Depth: 1:  https://vit.ac.in/system/files/WhatsApp%20Image%202021-08-15%20at%2013.18.57.jpeg\n",
            "Depth: 1:  https://vit.ac.in/system/files/WhatsApp%20Image%202021-08-15%20at%2013.18.58.jpeg\n",
            "Depth: 1:  https://vit.ac.in/system/files/WhatsApp%20Image%202021-08-15%20at%2013.18.59%20%281%29.jpeg\n",
            "Depth: 1:  https://vit.ac.in/system/files/WhatsApp%20Image%202021-08-15%20at%2013.18.59.jpeg\n",
            "Depth: 1:  https://vit.ac.in/system/files/WhatsApp%20Image%202021-08-15%20at%2013.19.48%20%281%29.jpeg\n",
            "Depth: 1:  https://vit.ac.in/system/files/WhatsApp%20Image%202021-08-15%20at%2013.19.48%20%282%29.jpeg\n",
            "Depth: 1:  https://vit.ac.in/system/files/WhatsApp%20Image%202021-08-15%20at%2013.19.49%20%281%29.jpeg\n",
            "Depth: 1:  https://vit.ac.in/system/files/WhatsApp%20Image%202021-08-15%20at%2013.19.49%20%282%29.jpeg\n",
            "Depth: 1:  https://vit.ac.in/system/files/WhatsApp%20Image%202021-08-15%20at%2013.19.49.jpeg\n",
            "Depth: 1:  https://vit.ac.in/system/files/WhatsApp%20Image%202021-08-15%20at%2013.19.50.jpeg\n",
            "Depth: 1: https://vit.ac.in/academics/iqac\n",
            "Depth: 1: https://vit.ac.in/vit-institution-eminence-ioe\n",
            "Depth: 1: http://www.mhrdnats.gov.in/\n",
            "Depth: 1: https://vit.ac.in/sites/default/files/footer_menu_doc/FormatGuidelines%20%283%29.doc\n",
            "Depth: 1: https://vit.ac.in/files/VIT-innovation-and-startup-policy.pdf\n",
            "Depth: 1: https://vit.ac.in/sites/default/files/Student-Code-of-Conduct.pdf\n",
            "Depth: 1: https://peopleorbit.vit.ac.in/\n",
            "Depth: 1: https://webmail.vit.ac.in/\n",
            "Depth: 1: https://accounts.google.com/AddSession?continue=https%3A%2F%2Fmail.google.com%2Fmail%2F&service=mail&hd=vit.ac.in&sacu=1\n",
            "Depth: 1: https://vit.ac.in/files/VIT-redressal-policy-antidiscrimination.pdf\n",
            "Depth: 1: https://vit.ac.in/institutional-student-grievance-redressal-committee-isgrc\n",
            "Depth: 1: http://www.vitaa.org\n",
            "Depth: 1: https://vit.ac.in/contactus\n",
            "Depth: 0: https://admissionresults.vit.ac.in/viteee/\n",
            "Depth: 0: https://admissionresults.vit.ac.in/integratedmtech/\n",
            "Depth: 0: https://admissionresults.vit.ac.in/integratedmsc/\n",
            "Depth: 0: https://admissions.vit.ac.in/ugresults\n",
            "Depth: 0: https://admissions.vit.ac.in/pgresults/\n",
            "Depth: 0: https://admissions.vit.ac.in/irpgapplication/\n",
            "Depth: 0: https://labpayments.vit.ac.in/CLSMLab/\n",
            "Depth: 1: https://labpayments.vit.ac.in/CLSMLab/index\n",
            "Depth: 1: https://labpayments.vit.ac.in/CLSMLab/payNow\n",
            "Depth: 1: https://labpayments.vit.ac.in/CLSMLab/downloadReceipt\n",
            "Depth: 0: /vit-institution-eminence-ioe\n",
            "Depth: 1: https://vit.ac.in/all-news\n",
            "Depth: 1: https://vit.ac.in/system/files/IOE-TIMES-opti_0.jpg\n",
            "Depth: 1: /vit-only-private-institution-india-shanghai-ranking-2021\n",
            "Depth: 1: /photo-exhibition-75th-year-indian-independence\n",
            "Depth: 1: /vellore-institute-technology-vit-triumphs-tata-steel-materialnext-20-0\n",
            "Depth: 1: /vit-donates-%E2%82%B9150-cr-cm%E2%80%99s-fund\n",
            "Depth: 1: /international-yoga-day-2021-0\n",
            "Depth: 1: /all-news\n",
            "Depth: 0: /national-institutional-ranking-framework-nirf\n",
            "Depth: 1: https://vit.ac.in/node/3600\n",
            "Depth: 1: http://info.vit.ac.in/NIRF-2021/Overall/index.html\n",
            "Depth: 1: http://info.vit.ac.in/NIRF-2021/Engineering/index.html\n",
            "Depth: 1: /academics/iqac\n",
            "Depth: 1: /about-us/raac\n",
            "Depth: 1: /vitwebsite/sites/default/files/RAAC_Accreditation.pdf\n",
            "Depth: 1: /office-ranking-and-accreditation\n",
            "Depth: 1: /sites/default/files/raac_EventsandNews.pdf\n",
            "Depth: 1: /sites/default/files/compendium.pdf\n",
            "Depth: 0: https://www.vidyalakshmi.co.in/Students/\n",
            "Depth: 1: #studentlogin\n",
            "Depth: 1: signup\n",
            "Depth: 1: https://www.vidyalakshmi.co.in/Bank/\n",
            "Depth: 1: https://www.vidyalakshmi.co.in/NSDL/\n",
            "Depth: 1: index\n",
            "Depth: 1: about-us\n",
            "Depth: 1: faq\n",
            "Depth: 1: impLinks\n",
            "Depth: 1: contact-us\n",
            "Depth: 1: #student\n",
            "Depth: 1: forgotPass\n",
            "Depth: 1: resendActLink\n",
            "Depth: 1: https://www.onlineservices.nsdl.com/paam/endUserRegisterContact.html\n",
            "Depth: 1: https://www.vidyasaarathi.co.in\n",
            "Depth: 1: https://www.ndtv.com/education/vidya-lakshmi-government-run-education-loan-portal-10-things-to-know-1856402\n",
            "Depth: 1: https://premium.thehindubusinessline.com/portfolio/news-analysis/vidya-lakshmi-is-one-stop-portal-for-education-loans/article23424333.ece\n",
            "Depth: 1: http://www.canarabank.com\n",
            "Depth: 1: http://www.bankofindia.co.in\n",
            "Depth: 1: https://www.jkbank.com \n",
            "Depth: 1: http://gpparsikbank.com/\n",
            "Depth: 1: http://www.pnbindia.in\n",
            "Depth: 1: https://www.ucobank.com/\n",
            "Depth: 1: http://www.federalbank.co.in/\n",
            "Depth: 1: https://www.axisbank.com/retail/loans/education-loan\n",
            "Depth: 1: https://www.iob.in\n",
            "Depth: 1: http://www.rblbank.com/\n",
            "Depth: 1: http://www.newindiabank.in/\n",
            "Depth: 1: https://www.unionbankofindia.co.in/english/home.aspx\n",
            "Depth: 1: https://www.indianbank.net.in\n",
            "Depth: 1: https://www.keralagbank.in\n",
            "Depth: 1: http://www.bankofbaroda.com\n",
            "Depth: 1: http://www.centralbankofindia.co.in\n",
            "Depth: 1: http://www.apgb.in\n",
            "Depth: 1: http://hdfcbank.com/\n",
            "Depth: 1: http://www.idbi.com/\n",
            "Depth: 1: http://www.kvb.co.in\n",
            "Depth: 1: http://www.syndicatebank.in\n",
            "Depth: 1: https://bank.sbi/portal/web/interest-rates/education-loan-scheme\n",
            "Depth: 1: http://www.tmb.in\n",
            "Depth: 1: https://scholarships.gov.in/\n",
            "Depth: 1: https://egov-nsdl.co.in/\n",
            "Depth: 1: media\n",
            "Depth: 1: privacyPolicy\n",
            "Depth: 1: disclaimer\n",
            "Depth: 1: https://www.facebook.com/VidyaLakshmi.EducationLoan/\n",
            "Depth: 1: https://www.instagram.com/vidyalakshmi_el/?hl=en\n",
            "Depth: 1: https://twitter.com/Vidyalakshmi_EL?lang=en\n",
            "Depth: 1: https://www.youtube.com/channel/UC30AChvqpp-NOXuMBWlkEpw?view_as=subscriber\n",
            "Depth: 0: http://info.vit.ac.in/CDAC/html/index3.html\n",
            "Depth: 1: #about\n",
            "Depth: 1: #service\n",
            "Depth: 1: #price\n",
            "Depth: 1: #contact\n",
            "Depth: 1: download/fees_new.pdf\n",
            "Depth: 1: download/CDAC_benefits.JPG\n",
            "Depth: 1: download/cdac_fees.jpg\n",
            "Depth: 0: files/nabl.pdf\n",
            "Depth: 0: /ranking\n",
            "Depth: 1: https://vit.ac.in/about-us/raac\n",
            "Depth: 1: /sites/default/files/raac_0.jpg\n",
            "Depth: 1: https://vit.ac.in/files/global-ranking-updates.pdf\n",
            "Depth: 1: https://vit.ac.in/vit-rank\n",
            "Depth: 1: /naac\n",
            "Depth: 0: https://vit.ac.in/ariia-award\n",
            "Depth: 1: https://vit.ac.in/sites/default/files/ARIIA%20Award1_0_0_0.jpg\n",
            "Depth: 1: https://vit.ac.in/ARIIA-Report.pdf\n",
            "Depth: 0: https://vit.ac.in/qs-ranks-vit-one-among-top-12-institutions-india-engineering-and-technology\n",
            "Depth: 1: https://vit.ac.in/system/files/qs_def6f664dc7f9e9b5b19a582d7067db3.jpg\n",
            "Depth: 1: https://vit.ac.in/detailview/qs-ranks-vit-one-among-top-12-institutions-india-engineering-and-technology-0\n",
            "Depth: 0: https://vit.ac.in/world-university-rankings-2020\n",
            "Depth: 1: https://vit.ac.in/system/files/VIT-CSC-RANK-2020-opti.jpg\n",
            "Depth: 1: https://www.timeshighereducation.com/world-university-rankings/vit-university\n",
            "Depth: 1: https://www.thehindu.com/news/national/tamil-nadu/vit-makes-it-to-the-world-ranking/article29836003.ece\n",
            "Depth: 1: http://www.thehindu.com\n",
            "Depth: 0: /academics/InternationalRelations\n",
            "Depth: 1: https://vit.ac.in/academics/InternationalRelations\n",
            "Depth: 1: ../academics-more/partnerUniversities\n",
            "Depth: 1: https://vit.ac.in/academics-more/partnerUniversities\n",
            "Depth: 1: ../academics-more/SAP\n",
            "Depth: 1: ../academics/itp\n",
            "Depth: 1: https://vit.ac.in/detailview/vit-mou-george-washington-university\n",
            "Depth: 1: https://vit.ac.in/detailview/fam-tour\n",
            "Depth: 1: https://vit.ac.in/detailview/first-batch-phd-candidates-ghana\n",
            "Depth: 1: https://vit.ac.in/detailview/international-summer-school-internet-things-and-data-analytics\n",
            "Depth: 1: javascript:void(0);\n",
            "Depth: 1: https://vit.ac.in/academics-more/SAP\n",
            "Depth: 1: https://vit.ac.in/academics/itp\n",
            "Depth: 1: https://vit.ac.in/admissions/international/testimonials\n",
            "Depth: 1: https://vit.ac.in/academics-more/International Webinars\n",
            "Depth: 1: /admissions/international/overview\n",
            "Depth: 1: https://studyinindia.gov.in/\n",
            "Depth: 1: https://studyinindia.gov.in/admission/login/\n",
            "Depth: 1: javaScript:Void(0);\n",
            "Depth: 1: mailto:international@vit.ac.in\n",
            "Depth: 0: placements/statistics\n",
            "Depth: 0: https://vit.ac.in/vit-university-sets-record-limca-book-records\n",
            "Depth: 1: https://vit.ac.in/sites/default/files/images/news/VIT%20University%20sets%20record%20in%20Limca%20Book%20of%20Records.jpg\n",
            "Depth: 0: /admission-overview\n",
            "Depth: 1: https://vit.ac.in/admission-overview\n",
            "Depth: 1: mailto:ugadmission@vit.ac.in\n",
            "Depth: 1: mailto:pgadmission@vit.ac.in\n",
            "Depth: 0: https://vit.ac.in/vit-only-private-institution-india-shanghai-ranking-2021\n",
            "Depth: 1: https://vit.ac.in/system/files/news-shan.png\n",
            "Depth: 1: https://vit.ac.in/detailview/vit-ranks-one-among-top-10-universities-and-only-indian-private-institution-shanghai-world\n",
            "Depth: 0: https://vit.ac.in/photo-exhibition-75th-year-indian-independence\n",
            "Depth: 1: https://vit.ac.in/system/files/ind_0.png\n",
            "Depth: 1: https://vit.ac.in/detailview/75th-independence-day-celebration-inauguration-photo-exhibition-press\n",
            "Depth: 0: https://vit.ac.in/vellore-institute-technology-vit-triumphs-tata-steel-materialnext-20-0\n",
            "Depth: 1: https://vit.ac.in/system/files/FREE%20PRESS%2022-07-21_1.jpg\n",
            "Depth: 1: https://vit.ac.in/detailview/vellore-institute-technology-vit-triumphs-tata-steel-materialnext-20\n",
            "Depth: 0: https://vit.ac.in/vit-donates-%E2%82%B9150-cr-cm%E2%80%99s-fund\n",
            "Depth: 1: https://vit.ac.in/system/files/covid-fund.jpg\n",
            "Depth: 1: https://vit.ac.in/vit-donates-rs150-cr-cms-fund\n",
            "Depth: 0: vit-alumnus-recognized-best-performing-ias-officer\n",
            "Depth: 0: vit-sae-team-rotorfpv\n",
            "Depth: 0: 5-teams-vit-qualify-finals-nasscom-–-ibm-all-india-hackathon\n",
            "Depth: 0: virtual-track-competitions-communications-award\n",
            "Depth: 0: team-roverx-creation-labs-vit-vellore-has-achieved-new-milestone-year-scoring-9036-its-system\n",
            "Depth: 0: 3d-printing-play-major-role-mitigating-spread-covid-19-say-researchers-vit\n",
            "Depth: 0: article-published-hindu-business-line-co-authored-vit-alumnus-and-niti-aayog’s\n",
            "Depth: 0: students-robovitics-vit-have-designed-and-manufactured-3d-printed-prototypes-spare-parts-medical\n",
            "Depth: 0: https://vit.ac.in/galleries\n",
            "Depth: 1: /detailview/vit-ranks-one-among-top-10-universities-and-only-indian-private-institution-shanghai-world\n",
            "Depth: 1: /detailview/welcoming-new-faculty-fop-2021-asc-office\n",
            "Depth: 1: /detailview/75th-independence-day-celebration-inauguration-photo-exhibition\n",
            "Depth: 1: /detailview/75th-independence-day-celebration-inauguration-photo-exhibition-press\n",
            "Depth: 1: /detailview/81-students-vit-get-25-lakhs-annum-and-above-salary-day-1-placement-season-highest-ctc-75-lakhs\n",
            "Depth: 1: /detailview/what-self-awareness-looking-beyond-law-attraction\n",
            "Depth: 1: /detailview/faculty-orientation-program-2015\n",
            "Depth: 1: /detailview/faculty-orientation-program-2016\n",
            "Depth: 1: /detailview/faculty-orientation-program-2020-0\n",
            "Depth: 1: /detailview/vellore-institute-technology-vit-triumphs-tata-steel-materialnext-20\n",
            "Depth: 1: /detailview/vit-top-12-google-coding-competition\n",
            "Depth: 1: /detailview/vit-iit-madras-teaching-learning-workshop-july-17-18-2021\n",
            "Depth: 1: /detailview/thiru-kkamaraj-birthday\n",
            "Depth: 1: /detailview/74th-birth-anniversary-smt-rajeswari-viswanathan\n",
            "Depth: 1: /detailview/vit-donates-rs150-cr-cms-fund\n",
            "Depth: 1: /detailview/international-yoga-day-2021\n",
            "Depth: 1: /detailview/faculty-orientation-program-2021\n",
            "Depth: 1: /detailview/c-aranganayagam\n",
            "Depth: 1: /detailview/research-grants-why-where-and-how\n",
            "Depth: 1: /detailview/implementation-bigdata-and-ai-cloud\n",
            "Depth: 1: /galleries?page=1\n",
            "Depth: 1: /galleries?page=2\n",
            "Depth: 1: /galleries?page=3\n",
            "Depth: 1: /galleries?page=4\n",
            "Depth: 1: /galleries?page=5\n",
            "Depth: 1: /galleries?page=6\n",
            "Depth: 1: /galleries?page=7\n",
            "Depth: 1: /galleries?page=8\n",
            "Depth: 1: /galleries?page=19\n",
            "Depth: 0: http://campustour.vit.ac.in/\n",
            "Depth: 1: tour.html\n",
            "Depth: 1: ../VR_Mobileslist/PhoneList.html\n",
            "Depth: 0: https://vit.ac.in/video\n",
            "Depth: 1: https://www.youtube.com/embed/2JK5Q8iVHBI?wmode=opaque\n",
            "Depth: 1: https://www.youtube.com/embed/HFLKuCw__xI?wmode=opaque\n",
            "Depth: 1: https://www.youtube.com/embed/TgFdfE4NXzA?wmode=opaque\n",
            "Depth: 1: https://www.youtube.com/embed/ibuy_WR02h4?wmode=opaque\n",
            "Depth: 1: https://www.youtube.com/embed/Mn4RIGKZ9K8?wmode=opaque\n",
            "Depth: 1: https://www.youtube.com/embed/XtQLXuu6X8g?wmode=opaque\n",
            "Depth: 1: https://www.youtube.com/embed/QSoMA-ggfXY?wmode=opaque\n",
            "Depth: 1: https://www.youtube.com/embed/4Li1bSvwm3Q?wmode=opaque\n",
            "Depth: 1: https://www.youtube.com/embed/_ewJHGM1ORY?wmode=opaque\n",
            "Depth: 1: https://www.youtube.com/embed/W8f_fIHvHmE?wmode=opaque\n",
            "Depth: 1: https://www.youtube.com/embed/o6B_Iw_WYsY?wmode=opaque\n",
            "Depth: 1: https://www.youtube.com/embed/rgC4Subb8hE?wmode=opaque\n",
            "Depth: 1: https://www.youtube.com/embed/j4-X4vt7h_o?wmode=opaque\n",
            "Depth: 1: https://www.youtube.com/embed/2QTXJSn2RzQ?wmode=opaque\n",
            "Depth: 1: https://www.youtube.com/embed/6L_hYC3hI-k?wmode=opaque\n",
            "Depth: 1: https://www.youtube.com/embed/YRB8617L9lg?wmode=opaque\n",
            "Depth: 1: https://www.youtube.com/embed/eidn3VVcZYM?wmode=opaque\n",
            "Depth: 1: https://www.youtube.com/embed/doJzw19XYj4?wmode=opaque\n",
            "Depth: 1: https://www.youtube.com/embed/3C9a1DFyZf8?wmode=opaque\n",
            "Depth: 1: https://www.youtube.com/embed/IddRlLSZYwk?wmode=opaque\n",
            "Depth: 1: https://www.youtube.com/embed/0hQ9yltmA6c?wmode=opaque\n",
            "Depth: 1: https://www.youtube.com/embed/acPn6bJeWJk?wmode=opaque\n",
            "Depth: 1: https://www.youtube.com/embed/CF02CmrTWk8?wmode=opaque\n",
            "Depth: 1: https://www.youtube.com/embed/Gzfk9JiGe7Q?wmode=opaque\n",
            "Depth: 1: https://www.youtube.com/embed/OHHI9UebDRg?wmode=opaque\n",
            "Depth: 1: https://www.youtube.com/embed/zB5GrRjjSqg?wmode=opaque\n",
            "Depth: 1: https://www.youtube.com/embed/ooKoKC8fABI?wmode=opaque\n",
            "Depth: 1: https://www.youtube.com/embed/OI58jc3-5t0?wmode=opaque\n",
            "Depth: 1: https://www.youtube.com/embed/KeEHsXfMbPo?wmode=opaque\n",
            "Depth: 1: https://www.youtube.com/embed/4wVzP4ee7XQ?wmode=opaque\n",
            "Depth: 1: https://www.youtube.com/embed/8CdvckrShAw?wmode=opaque\n",
            "Depth: 1: https://www.youtube.com/embed/D2_tQdsL6rA?wmode=opaque\n",
            "Depth: 1: https://www.youtube.com/embed/PvaRjJC36T8?wmode=opaque\n",
            "Depth: 1: https://www.youtube.com/embed/e2mC1qsG0tY?wmode=opaque\n",
            "Depth: 1: https://www.youtube.com/embed/xXRpL3bfFVI?wmode=opaque\n",
            "Depth: 1: https://www.youtube.com/embed/uoZq_hJte5o?wmode=opaque\n",
            "Depth: 1: https://www.youtube.com/embed/ttabnYLYYGU?wmode=opaque\n",
            "Depth: 1: https://www.youtube.com/embed/eckptOrCefs?wmode=opaque\n",
            "Depth: 1: https://www.youtube.com/embed/Zqd5ESWD6qo?wmode=opaque\n",
            "Depth: 1: https://www.youtube.com/embed/A1toRLPMN7Y?wmode=opaque\n",
            "Depth: 1: https://www.youtube.com/embed/iGvZq2-ddUY?wmode=opaque\n",
            "Depth: 1: https://www.youtube.com/embed/4x78BjkvaE8?wmode=opaque\n",
            "Depth: 1: https://www.youtube.com/embed/JEIDLVCF6dA?wmode=opaque\n",
            "Depth: 1: https://www.youtube.com/embed/YErU9sXVwgU?wmode=opaque\n",
            "Depth: 1: https://www.youtube.com/embed/ztyDVzgogPw?wmode=opaque\n",
            "Depth: 1: https://www.youtube.com/embed/Wx_fu9uthcc?wmode=opaque\n",
            "Depth: 1: https://www.youtube.com/embed/mqAcMe9JZzI?wmode=opaque\n",
            "Depth: 1: https://www.youtube.com/embed/SlslWEc0_hs?wmode=opaque\n",
            "Depth: 1: https://www.youtube.com/embed/CzbsU-x-yv8?wmode=opaque\n",
            "Depth: 1: https://www.youtube.com/embed/q0L68XZUaNo?wmode=opaque\n",
            "Depth: 1: https://www.youtube.com/embed/8K8ebVbyZpg?wmode=opaque\n",
            "Depth: 1: https://www.youtube.com/embed/0ABk1lNAlRg?wmode=opaque\n",
            "Depth: 1: https://www.youtube.com/embed/gLrMGrZYgc8?wmode=opaque\n",
            "Depth: 1: https://www.youtube.com/embed/VaxML7wnn0c?wmode=opaque\n",
            "Depth: 1: https://www.youtube.com/embed/NAU5kLFnH7k?wmode=opaque\n",
            "Depth: 1: https://www.youtube.com/embed/gORuoKjzPPU?wmode=opaque\n",
            "Depth: 1: https://www.youtube.com/embed/qrr93FHlE8Y?wmode=opaque\n",
            "Depth: 1: https://www.youtube.com/embed/7WLE1U3Q-v0?wmode=opaque\n",
            "Depth: 1: https://www.youtube.com/embed/Z_3kll72ISY?wmode=opaque\n",
            "Depth: 1: https://www.youtube.com/embed/8IvDFt8DFqQ?wmode=opaque\n",
            "Depth: 1: https://www.youtube.com/embed/yHmE_jlwcSU?wmode=opaque\n",
            "Depth: 1: https://www.youtube.com/embed/DuSKA0ED1qo?wmode=opaque\n",
            "Depth: 1: https://www.youtube.com/embed/hknGiFZEEmw?wmode=opaque\n",
            "Depth: 1: https://www.youtube.com/embed/obkb3AVd34E?wmode=opaque\n",
            "Depth: 1: https://www.youtube.com/embed/A8AZzj7eh0o?wmode=opaque\n",
            "Depth: 1: https://www.youtube.com/embed/ByDvH39fwBw?wmode=opaque\n",
            "Depth: 1: https://www.youtube.com/embed/ED4_vpfeU5I?wmode=opaque\n",
            "Depth: 1: https://www.youtube.com/embed/ZFnou9oc-xk?wmode=opaque\n",
            "Depth: 1: https://www.youtube.com/embed/pQG6IE3DG44?wmode=opaque\n",
            "Depth: 1: https://www.youtube.com/embed/T13IPjpInMs?wmode=opaque\n",
            "Depth: 1: https://www.youtube.com/embed/KX6ImNjDW9Y?wmode=opaque\n",
            "Depth: 1: https://www.youtube.com/embed/vr13ib_7rKc?wmode=opaque\n",
            "Depth: 1: https://www.youtube.com/embed/o8wOj7MsNaI?wmode=opaque\n",
            "Depth: 1: https://www.youtube.com/embed/fKeWPpa83ps?wmode=opaque\n",
            "Depth: 1: https://www.youtube.com/embed/qCd9JB8SMv0?wmode=opaque\n",
            "Depth: 1: https://www.youtube.com/embed/GVpXlgDY6YA?wmode=opaque\n",
            "Depth: 1: https://www.youtube.com/embed/duQn0tAt0pw?wmode=opaque\n",
            "Depth: 1: https://www.youtube.com/embed/O9goMNvLdkE?wmode=opaque\n",
            "Depth: 1: https://www.youtube.com/embed/S_fBUoogpv0?wmode=opaque\n",
            "Depth: 1: https://www.youtube.com/embed/Ly4InMIr2uA?wmode=opaque\n",
            "Depth: 1: https://www.youtube.com/embed/vNYt1P6ayIM?wmode=opaque\n",
            "Depth: 1: https://www.youtube.com/embed/VknZ8oxweBY?wmode=opaque\n",
            "Depth: 1: https://www.youtube.com/embed/Dj1QdvBJgsk?wmode=opaque\n",
            "Depth: 1: https://www.youtube.com/embed/igA6gSzTYHA?wmode=opaque\n",
            "Depth: 1: https://www.youtube.com/embed/uGi8M0oKdkY?wmode=opaque\n",
            "Depth: 1: https://www.youtube.com/embed/mFxG6mseFuE?wmode=opaque\n",
            "Depth: 1: https://www.youtube.com/embed/XA25fKoQvmA?wmode=opaque\n",
            "Depth: 1: https://www.youtube.com/embed/Qyj50cre-Jo?wmode=opaque\n",
            "Depth: 1: https://www.youtube.com/embed/Zbv08WEQ_y8?wmode=opaque\n",
            "Depth: 1: https://www.youtube.com/embed/Zt-p7Dl6b-M?wmode=opaque\n",
            "Depth: 0: https://vit.ac.in/campus-hostel/hostels\n",
            "Depth: 1: https://vit.ac.in/campus-page/campus-overview\n",
            "Depth: 1: https://vit.ac.in/sites/default/files/boys_hostel%20%281%29.JPG\n",
            "Depth: 1:  https://vit.ac.in/sites/default/files/boys_hostel%20%282%29.JPG\n",
            "Depth: 1:  https://vit.ac.in/sites/default/files/boys_hostel%20%283%29.JPG\n",
            "Depth: 1:  https://vit.ac.in/sites/default/files/boys_hostel%20%284%29.JPG\n",
            "Depth: 1:  https://vit.ac.in/sites/default/files/boys_hostel%20%285%29.JPG\n",
            "Depth: 1:  https://vit.ac.in/sites/default/files/boys_hostel%20%286%29.JPG\n",
            "Depth: 1:  https://vit.ac.in/sites/default/files/boys_hostel%20%287%29.JPG\n",
            "Depth: 1:  https://vit.ac.in/sites/default/files/boys_hostel%20%288%29.JPG\n",
            "Depth: 1:  https://vit.ac.in/sites/default/files/boys_hostel%20%289%29.JPG\n",
            "Depth: 1: https://www.youtube.com/embed/ZGYoOG1k2vQ?wmode=opaque\n",
            "Depth: 1: https://vit.ac.in/files/Hostel-Fees-FIRST-YEAR-STUDENTS-2021-22-Indian-Category.pdf\n",
            "Depth: 1: https://vit.ac.in/files/Hostel-Fees-FIRST-YEAR-STUDENTS-2021-22-NRI-Category.pdf\n",
            "Depth: 1: https://vit.ac.in/files/hostel-affidavit-mens-hostel-2020-2021.pdf\n",
            "Depth: 1: https://vit.ac.in/sites/default/files/affidavit2019.pdf\n",
            "Depth: 1: https://vit.ac.in/files/lh-newsletter/index.html\n",
            "Depth: 1: https://vit.ac.in/sites/default/files/LH-Newsletter-2018-2019.pdf\n",
            "Depth: 1: https://vit.ac.in/sites/default/files/LH-Newsletter-2017-2018.pdf\n",
            "Depth: 1: https://vit.ac.in/sites/default/files/LH_NewsLetter-2016-2017.pdf\n",
            "Depth: 1: https://vit.ac.in/sites/default/files/Codeofconduct.pdf\n",
            "Depth: 1: mailto:director.mh@vit.ac.in\n",
            "Depth: 1: mailto:cw.mh@vit.ac.in\n",
            "Depth: 1: mailto:acw.mh@vit.ac.in\n",
            "Depth: 1: mailto:acw1.mh@vit.ac.in\n",
            "Depth: 1: mailto:warden.attendance@vit.ac.in\n",
            "Depth: 1: mailto:warden.food@vit.ac.in\n",
            "Depth: 1: mailto:warden.events@vit.ac.in\n",
            "Depth: 1: mailto:ao.hostel@vit.ac.in\n",
            "Depth: 1: mailto:manager.mh@vit.ac.in\n",
            "Depth: 1: mailto:director.lh@vit.ac.in\n",
            "Depth: 1: mailto:cw.lh@vit.ac.in\n",
            "Depth: 1: mailto:acw.lh@vit.ac.in\n",
            "Depth: 1: mailto:dydirector.lh@vit.ac.in\n",
            "Depth: 1: mailto:lhwarden.events@vit.ac.in\n",
            "Depth: 1: mailto:lhwarden.food@vit.ac.in\n",
            "Depth: 1: mailto:lh@vit.ac.in\n",
            "Depth: 1: mailto:rekha.a@vit.ac.in\n",
            "Depth: 1: mailto:dhanam.s@vit.ac.in \n",
            "Depth: 1: mailto:nirmaladevia.con@vit.ac.in \n",
            "Depth: 1: mailto:rpadma.con@vit.ac.in\n",
            "Depth: 1: mailto:anithab.con@vit.ac.in\n",
            "Depth: 1: mailto:Grievance-cw.mh@vit.ac.in\n",
            "Depth: 1: mailto:mh@vit.ac.in\n",
            "Depth: 0: http://info.vit.ac.in/guesthouse/\n",
            "Depth: 1: reach.asp\n",
            "Depth: 1: feedback.asp\n",
            "Depth: 1: contact_us.asp\n",
            "Depth: 1: http://www.menucool.com/javascript-image-slider\n",
            "Depth: 1: http://vit.ac.in/files/viteee2017/Hotels_VLR.pdf\n",
            "Depth: 1: gallery/gallery.htm\n",
            "Depth: 1: https://maps.google.com/?ie=UTF8&t=m&ll=12.967648,79.15886&spn=0.001176,0.000748&z=19&source=embed\n"
          ],
          "name": "stdout"
        }
      ]
    }
  ]
}